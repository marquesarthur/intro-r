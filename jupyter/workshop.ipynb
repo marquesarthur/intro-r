{
 "cells": [
  {
   "cell_type": "markdown",
   "metadata": {},
   "source": [
    "<img style=\"float: right;\" src=\"figures/research_commons_logo.png\">\n",
    "\n",
    "# WORKSHOP: INTRODUCTION TO R FOR STATISTICAL ANALYSIS\n",
    "\n",
    "* Arthur Marques (GAA)\n",
    "* Minjeong Park\n",
    "* Mohammad Zubair\n",
    "\n",
    "\n",
    "***"
   ]
  },
  {
   "cell_type": "markdown",
   "metadata": {
    "slideshow": {
     "slide_type": "-"
    }
   },
   "source": [
    "# Learning Goals\n",
    "\n",
    "<img src=\"figures/learning_objectives.png\">\n",
    "\n",
    "* Understand the basic commands of R and how to use RStudio environment\n",
    "\n",
    "* Learn how to load, preprocess, and explore datasets\n",
    "\n",
    "* Learn the basic commands for descriptive statistics\n",
    "\n",
    "* Learn basic commands for inference statistics\n",
    "\n",
    "***"
   ]
  },
  {
   "cell_type": "markdown",
   "metadata": {
    "slideshow": {
     "slide_type": "-"
    }
   },
   "source": [
    "## Workshop materials\n",
    "\n",
    "### Access the UBC research commons R workshop\n",
    "\n",
    "https://guides.library.ubc.ca/library_research_commons/rworkshop\n",
    "\n",
    "<img src=\"figures/path_to_files.png\">\n",
    "\n",
    "***"
   ]
  },
  {
   "cell_type": "markdown",
   "metadata": {
    "slideshow": {
     "slide_type": "-"
    }
   },
   "source": [
    "### Download the files for this workshop\n",
    "\n",
    "<img src=\"figures/save_to_desktop.png\">\n",
    "\n",
    "***"
   ]
  },
  {
   "cell_type": "markdown",
   "metadata": {
    "slideshow": {
     "slide_type": "slide"
    }
   },
   "source": [
    "## Overview of quantitative research\n",
    "\n",
    "<img src=\"figures/overview.png\">\n",
    "\n",
    "***"
   ]
  },
  {
   "cell_type": "markdown",
   "metadata": {},
   "source": [
    "<img src=\"figures/comparison.png\">\n",
    "\n",
    "***"
   ]
  },
  {
   "cell_type": "markdown",
   "metadata": {},
   "source": [
    "## R environment\n",
    "\n",
    "### Open RStudio\n",
    "\n",
    "<img src=\"figures/R_environment.png\">\n",
    "\n",
    "***"
   ]
  },
  {
   "cell_type": "markdown",
   "metadata": {},
   "source": [
    "### Create a new R script \n",
    "\n",
    "#### File > New file > R Script\n",
    "\n",
    "<img src=\"figures/R_Studio.png\">\n",
    "\n",
    "***"
   ]
  },
  {
   "cell_type": "markdown",
   "metadata": {},
   "source": [
    "### Change your working directory\n",
    "\n",
    "Set up a folder/path where data are located as a working directory \n",
    "\n",
    "<img src=\"figures/working_directory.png\">\n",
    "\n",
    "***"
   ]
  },
  {
   "cell_type": "markdown",
   "metadata": {},
   "source": [
    "# Basic Commands\n",
    "\n",
    "<img src=\"figures/learning_objectives.png\">\n",
    "\n",
    "***"
   ]
  },
  {
   "cell_type": "markdown",
   "metadata": {},
   "source": [
    "### R packages\n",
    "\n",
    "R package is a library of prewritten code designed for a particular task or a collection of tasks\n",
    "\n",
    "<img src=\"figures/R_packages.png\">\n",
    "\n",
    "***"
   ]
  },
  {
   "cell_type": "markdown",
   "metadata": {},
   "source": [
    "### Installing a new package (2 options)\n",
    "\n",
    "\n",
    "\n",
    "#### Under Tools -> Packages tab -> Search for “psych” and “dplyr”\n",
    "\n",
    "<img src=\"figures/install_packages.png\">\n",
    "\n",
    "***"
   ]
  },
  {
   "cell_type": "markdown",
   "metadata": {},
   "source": [
    "#### Using code: install.packages( ) and library( ) functions\n",
    "\n",
    "```\n",
    "install.packages(c(\"ggplot2\", \"dplyr\", \"readr\", \"psych\"))\n",
    "\n",
    "library(\"ggplot2\")\n",
    "library(\"dplyr\")\n",
    "library(\"readr\")\n",
    "library(\"psych\")\n",
    "```\n",
    "\n",
    "***"
   ]
  },
  {
   "cell_type": "code",
   "execution_count": 1,
   "metadata": {},
   "outputs": [
    {
     "name": "stderr",
     "output_type": "stream",
     "text": [
      "Installing packages into 'C:/Users/17783/Documents/R/win-library/3.6'\n",
      "(as 'lib' is unspecified)\n",
      "\n"
     ]
    },
    {
     "name": "stdout",
     "output_type": "stream",
     "text": [
      "package 'ggplot2' successfully unpacked and MD5 sums checked\n",
      "package 'dplyr' successfully unpacked and MD5 sums checked\n",
      "package 'readr' successfully unpacked and MD5 sums checked\n",
      "package 'psych' successfully unpacked and MD5 sums checked\n",
      "\n",
      "The downloaded binary packages are in\n",
      "\tC:\\Users\\17783\\AppData\\Local\\Temp\\Rtmpo3klau\\downloaded_packages\n"
     ]
    },
    {
     "name": "stderr",
     "output_type": "stream",
     "text": [
      "Warning message:\n",
      "\"package 'ggplot2' was built under R version 3.6.3\"\n",
      "Warning message:\n",
      "\"package 'dplyr' was built under R version 3.6.3\"\n",
      "\n",
      "Attaching package: 'dplyr'\n",
      "\n",
      "\n",
      "The following objects are masked from 'package:stats':\n",
      "\n",
      "    filter, lag\n",
      "\n",
      "\n",
      "The following objects are masked from 'package:base':\n",
      "\n",
      "    intersect, setdiff, setequal, union\n",
      "\n",
      "\n",
      "Warning message:\n",
      "\"package 'readr' was built under R version 3.6.3\"\n"
     ]
    }
   ],
   "source": [
    "install.packages(c(\"ggplot2\", \"dplyr\", \"readr\", \"psych\"))\n",
    "\n",
    "library(\"ggplot2\")\n",
    "library(\"dplyr\")\n",
    "library(\"readr\")"
   ]
  },
  {
   "cell_type": "markdown",
   "metadata": {},
   "source": [
    "#### Tips\n",
    "\n",
    "**On the editor**\n",
    "\n",
    "<kbd>CTRL</kbd>+<kbd>enter</kbd> runs the command in the current line (<kbd>cmd</kbd>+<kbd>enter</kbd> on MacOS)\n",
    "\n",
    "<kbd>CTRL</kbd>+<kbd>w</kbd> closes current tab (<kbd>cmd</kbd>+<kbd>w</kbd> on MacOS)\n",
    "\n",
    "After typing the first few lines of a command, <kbd>tab</kbd> auto-completes the command\n",
    "\n",
    "**On the console**\n",
    "\n",
    "<kbd>↑</kbd> shows the last command (useful to rerun the command of fix errors)\n",
    "\n",
    "***"
   ]
  },
  {
   "cell_type": "markdown",
   "metadata": {},
   "source": [
    "\n",
    "# Data Manipulation\n",
    "\n",
    "<img src=\"figures/learning_objectives.png\">\n",
    "\n",
    "#### Our data\n",
    "\n",
    "<img src=\"figures/global_warming.jpeg\">\n",
    "\n",
    "***"
   ]
  },
  {
   "cell_type": "markdown",
   "metadata": {},
   "source": [
    "### Import data from excel\n",
    "\n",
    "\n",
    "\n",
    "<img src=\"figures/data_import_from_excel.png\">\n",
    "\n",
    "***"
   ]
  },
  {
   "cell_type": "markdown",
   "metadata": {},
   "source": [
    "### Preview data and give it a nice name\n",
    "\n",
    "\n",
    "<img src=\"figures/data_import_preview.png\">\n",
    "\n",
    "\n",
    "***"
   ]
  },
  {
   "cell_type": "markdown",
   "metadata": {},
   "source": [
    "### You can also load your data with the read_csv command"
   ]
  },
  {
   "cell_type": "code",
   "execution_count": 2,
   "metadata": {},
   "outputs": [],
   "source": [
    "mydata <- read.csv(\"GlobalLandTemperaturesByCountry.csv\")"
   ]
  },
  {
   "cell_type": "code",
   "execution_count": 4,
   "metadata": {},
   "outputs": [
    {
     "data": {
      "text/html": [
       "<table>\n",
       "<caption>A data.frame: 15 × 4</caption>\n",
       "<thead>\n",
       "\t<tr><th></th><th scope="col">dt</th><th scope="col">AverageTemperature</th><th scope="col">AverageTemperatureUncertainty</th><th scope="col">Country</th></tr>\n",
       "\t<tr><th></th><th scope="col">&lt;fct&gt;</th><th scope="col">&lt;dbl&gt;</th><th scope="col">&lt;dbl&gt;</th><th scope="col">&lt;fct&gt;</th></tr>\n",
       "</thead>\n",
       "<tbody>\n",
       "\t<tr><th scope="row">1</th><td>1743-11-01</td><td> 4.384</td><td>2.294</td><td>Ã…land</td></tr>\n",
       "\t<tr><th scope="row">2</th><td>1743-12-01</td><td>    NA</td><td>   NA</td><td>Ã…land</td></tr>\n",
       "\t<tr><th scope="row">3</th><td>1744-01-01</td><td>    NA</td><td>   NA</td><td>Ã…land</td></tr>\n",
       "\t<tr><th scope="row">4</th><td>1744-02-01</td><td>    NA</td><td>   NA</td><td>Ã…land</td></tr>\n",
       "\t<tr><th scope="row">5</th><td>1744-03-01</td><td>    NA</td><td>   NA</td><td>Ã…land</td></tr>\n",
       "\t<tr><th scope="row">6</th><td>1744-04-01</td><td> 1.530</td><td>4.680</td><td>Ã…land</td></tr>\n",
       "\t<tr><th scope="row">7</th><td>1744-05-01</td><td> 6.702</td><td>1.789</td><td>Ã…land</td></tr>\n",
       "\t<tr><th scope="row">8</th><td>1744-06-01</td><td>11.609</td><td>1.577</td><td>Ã…land</td></tr>\n",
       "\t<tr><th scope="row">9</th><td>1744-07-01</td><td>15.342</td><td>1.410</td><td>Ã…land</td></tr>\n",
       "\t<tr><th scope="row">10</th><td>1744-08-01</td><td>    NA</td><td>   NA</td><td>Ã…land</td></tr>\n",
       "\t<tr><th scope="row">11</th><td>1744-09-01</td><td>11.702</td><td>1.517</td><td>Ã…land</td></tr>\n",
       "\t<tr><th scope="row">12</th><td>1744-10-01</td><td> 5.477</td><td>1.862</td><td>Ã…land</td></tr>\n",
       "\t<tr><th scope="row">13</th><td>1744-11-01</td><td> 3.407</td><td>1.425</td><td>Ã…land</td></tr>\n",
       "\t<tr><th scope="row">14</th><td>1744-12-01</td><td>-2.181</td><td>1.641</td><td>Ã…land</td></tr>\n",
       "\t<tr><th scope="row">15</th><td>1745-01-01</td><td>-3.850</td><td>1.841</td><td>Ã…land</td></tr>\n",
       "</tbody>\n",
       "</table>\n"
      ],
      "text/latex": [
       "A data.frame: 15 × 4\n",
       "\\begin{tabular}{r|llll}\n",
       "  & dt & AverageTemperature & AverageTemperatureUncertainty & Country\\\\\n",
       "  & <fct> & <dbl> & <dbl> & <fct>\\\\\n",
       "\\hline\n",
       "\t1 & 1743-11-01 &  4.384 & 2.294 & Ã…land\\\\\n",
       "\t2 & 1743-12-01 &     NA &    NA & Ã…land\\\\\n",
       "\t3 & 1744-01-01 &     NA &    NA & Ã…land\\\\\n",
       "\t4 & 1744-02-01 &     NA &    NA & Ã…land\\\\\n",
       "\t5 & 1744-03-01 &     NA &    NA & Ã…land\\\\\n",
       "\t6 & 1744-04-01 &  1.530 & 4.680 & Ã…land\\\\\n",
       "\t7 & 1744-05-01 &  6.702 & 1.789 & Ã…land\\\\\n",
       "\t8 & 1744-06-01 & 11.609 & 1.577 & Ã…land\\\\\n",
       "\t9 & 1744-07-01 & 15.342 & 1.410 & Ã…land\\\\\n",
       "\t10 & 1744-08-01 &     NA &    NA & Ã…land\\\\\n",
       "\t11 & 1744-09-01 & 11.702 & 1.517 & Ã…land\\\\\n",
       "\t12 & 1744-10-01 &  5.477 & 1.862 & Ã…land\\\\\n",
       "\t13 & 1744-11-01 &  3.407 & 1.425 & Ã…land\\\\\n",
       "\t14 & 1744-12-01 & -2.181 & 1.641 & Ã…land\\\\\n",
       "\t15 & 1745-01-01 & -3.850 & 1.841 & Ã…land\\\\\n",
       "\\end{tabular}\n"
      ],
      "text/markdown": [
       "\n",
       "A data.frame: 15 × 4\n",
       "\n",
       "| <!--/--> | dt &lt;fct&gt; | AverageTemperature &lt;dbl&gt; | AverageTemperatureUncertainty &lt;dbl&gt; | Country &lt;fct&gt; |\n",
       "|---|---|---|---|---|\n",
       "| 1 | 1743-11-01 |  4.384 | 2.294 | Ã…land |\n",
       "| 2 | 1743-12-01 |     NA |    NA | Ã…land |\n",
       "| 3 | 1744-01-01 |     NA |    NA | Ã…land |\n",
       "| 4 | 1744-02-01 |     NA |    NA | Ã…land |\n",
       "| 5 | 1744-03-01 |     NA |    NA | Ã…land |\n",
       "| 6 | 1744-04-01 |  1.530 | 4.680 | Ã…land |\n",
       "| 7 | 1744-05-01 |  6.702 | 1.789 | Ã…land |\n",
       "| 8 | 1744-06-01 | 11.609 | 1.577 | Ã…land |\n",
       "| 9 | 1744-07-01 | 15.342 | 1.410 | Ã…land |\n",
       "| 10 | 1744-08-01 |     NA |    NA | Ã…land |\n",
       "| 11 | 1744-09-01 | 11.702 | 1.517 | Ã…land |\n",
       "| 12 | 1744-10-01 |  5.477 | 1.862 | Ã…land |\n",
       "| 13 | 1744-11-01 |  3.407 | 1.425 | Ã…land |\n",
       "| 14 | 1744-12-01 | -2.181 | 1.641 | Ã…land |\n",
       "| 15 | 1745-01-01 | -3.850 | 1.841 | Ã…land |\n",
       "\n"
      ],
      "text/plain": [
       "   dt         AverageTemperature AverageTemperatureUncertainty Country\n",
       "1  1743-11-01  4.384             2.294                         Ã…land \n",
       "2  1743-12-01     NA                NA                         Ã…land \n",
       "3  1744-01-01     NA                NA                         Ã…land \n",
       "4  1744-02-01     NA                NA                         Ã…land \n",
       "5  1744-03-01     NA                NA                         Ã…land \n",
       "6  1744-04-01  1.530             4.680                         Ã…land \n",
       "7  1744-05-01  6.702             1.789                         Ã…land \n",
       "8  1744-06-01 11.609             1.577                         Ã…land \n",
       "9  1744-07-01 15.342             1.410                         Ã…land \n",
       "10 1744-08-01     NA                NA                         Ã…land \n",
       "11 1744-09-01 11.702             1.517                         Ã…land \n",
       "12 1744-10-01  5.477             1.862                         Ã…land \n",
       "13 1744-11-01  3.407             1.425                         Ã…land \n",
       "14 1744-12-01 -2.181             1.641                         Ã…land \n",
       "15 1745-01-01 -3.850             1.841                         Ã…land "
      ]
     },
     "metadata": {},
     "output_type": "display_data"
    }
   ],
   "source": [
    "head(mydata, 15)"
   ]
  },
  {
   "cell_type": "markdown",
   "metadata": {},
   "source": [
    "***\n",
    "\n",
    "## Basic data commands \n",
    "\n",
    "### names( ): check variable names"
   ]
  },
  {
   "cell_type": "code",
   "execution_count": 5,
   "metadata": {},
   "outputs": [
    {
     "data": {
      "text/html": [
       "<style>\n",
       ".list-inline {list-style: none; margin:0; padding: 0}\n",
       ".list-inline>li {display: inline-block}\n",
       ".list-inline>li:not(:last-child)::after {content: \"\\00b7\"; padding: 0 .5ex}\n",
       "</style>\n",
       "<ol class=list-inline><li>'dt'</li><li>'AverageTemperature'</li><li>'AverageTemperatureUncertainty'</li><li>'Country'</li></ol>\n"
      ],
      "text/latex": [
       "\\begin{enumerate*}\n",
       "\\item 'dt'\n",
       "\\item 'AverageTemperature'\n",
       "\\item 'AverageTemperatureUncertainty'\n",
       "\\item 'Country'\n",
       "\\end{enumerate*}\n"
      ],
      "text/markdown": [
       "1. 'dt'\n",
       "2. 'AverageTemperature'\n",
       "3. 'AverageTemperatureUncertainty'\n",
       "4. 'Country'\n",
       "\n",
       "\n"
      ],
      "text/plain": [
       "[1] \"dt\"                            \"AverageTemperature\"           \n",
       "[3] \"AverageTemperatureUncertainty\" \"Country\"                      "
      ]
     },
     "metadata": {},
     "output_type": "display_data"
    }
   ],
   "source": [
    "names(mydata)"
   ]
  },
  {
   "cell_type": "markdown",
   "metadata": {},
   "source": [
    "***\n",
    "\n",
    "### View first n lines of the table"
   ]
  },
  {
   "cell_type": "code",
   "execution_count": 6,
   "metadata": {},
   "outputs": [
    {
     "data": {
      "text/html": [
       "<table>\n",
       "<caption>A data.frame: 10 × 4</caption>\n",
       "<thead>\n",
       "\t<tr><th></th><th scope="col">dt</th><th scope="col">AverageTemperature</th><th scope="col">AverageTemperatureUncertainty</th><th scope="col">Country</th></tr>\n",
       "\t<tr><th></th><th scope="col">&lt;fct&gt;</th><th scope="col">&lt;dbl&gt;</th><th scope="col">&lt;dbl&gt;</th><th scope="col">&lt;fct&gt;</th></tr>\n",
       "</thead>\n",
       "<tbody>\n",
       "\t<tr><th scope="row">1</th><td>1743-11-01</td><td> 4.384</td><td>2.294</td><td>Ã…land</td></tr>\n",
       "\t<tr><th scope="row">2</th><td>1743-12-01</td><td>    NA</td><td>   NA</td><td>Ã…land</td></tr>\n",
       "\t<tr><th scope="row">3</th><td>1744-01-01</td><td>    NA</td><td>   NA</td><td>Ã…land</td></tr>\n",
       "\t<tr><th scope="row">4</th><td>1744-02-01</td><td>    NA</td><td>   NA</td><td>Ã…land</td></tr>\n",
       "\t<tr><th scope="row">5</th><td>1744-03-01</td><td>    NA</td><td>   NA</td><td>Ã…land</td></tr>\n",
       "\t<tr><th scope="row">6</th><td>1744-04-01</td><td> 1.530</td><td>4.680</td><td>Ã…land</td></tr>\n",
       "\t<tr><th scope="row">7</th><td>1744-05-01</td><td> 6.702</td><td>1.789</td><td>Ã…land</td></tr>\n",
       "\t<tr><th scope="row">8</th><td>1744-06-01</td><td>11.609</td><td>1.577</td><td>Ã…land</td></tr>\n",
       "\t<tr><th scope="row">9</th><td>1744-07-01</td><td>15.342</td><td>1.410</td><td>Ã…land</td></tr>\n",
       "\t<tr><th scope="row">10</th><td>1744-08-01</td><td>    NA</td><td>   NA</td><td>Ã…land</td></tr>\n",
       "</tbody>\n",
       "</table>\n"
      ],
      "text/latex": [
       "A data.frame: 10 × 4\n",
       "\\begin{tabular}{r|llll}\n",
       "  & dt & AverageTemperature & AverageTemperatureUncertainty & Country\\\\\n",
       "  & <fct> & <dbl> & <dbl> & <fct>\\\\\n",
       "\\hline\n",
       "\t1 & 1743-11-01 &  4.384 & 2.294 & Ã…land\\\\\n",
       "\t2 & 1743-12-01 &     NA &    NA & Ã…land\\\\\n",
       "\t3 & 1744-01-01 &     NA &    NA & Ã…land\\\\\n",
       "\t4 & 1744-02-01 &     NA &    NA & Ã…land\\\\\n",
       "\t5 & 1744-03-01 &     NA &    NA & Ã…land\\\\\n",
       "\t6 & 1744-04-01 &  1.530 & 4.680 & Ã…land\\\\\n",
       "\t7 & 1744-05-01 &  6.702 & 1.789 & Ã…land\\\\\n",
       "\t8 & 1744-06-01 & 11.609 & 1.577 & Ã…land\\\\\n",
       "\t9 & 1744-07-01 & 15.342 & 1.410 & Ã…land\\\\\n",
       "\t10 & 1744-08-01 &     NA &    NA & Ã…land\\\\\n",
       "\\end{tabular}\n"
      ],
      "text/markdown": [
       "\n",
       "A data.frame: 10 × 4\n",
       "\n",
       "| <!--/--> | dt &lt;fct&gt; | AverageTemperature &lt;dbl&gt; | AverageTemperatureUncertainty &lt;dbl&gt; | Country &lt;fct&gt; |\n",
       "|---|---|---|---|---|\n",
       "| 1 | 1743-11-01 |  4.384 | 2.294 | Ã…land |\n",
       "| 2 | 1743-12-01 |     NA |    NA | Ã…land |\n",
       "| 3 | 1744-01-01 |     NA |    NA | Ã…land |\n",
       "| 4 | 1744-02-01 |     NA |    NA | Ã…land |\n",
       "| 5 | 1744-03-01 |     NA |    NA | Ã…land |\n",
       "| 6 | 1744-04-01 |  1.530 | 4.680 | Ã…land |\n",
       "| 7 | 1744-05-01 |  6.702 | 1.789 | Ã…land |\n",
       "| 8 | 1744-06-01 | 11.609 | 1.577 | Ã…land |\n",
       "| 9 | 1744-07-01 | 15.342 | 1.410 | Ã…land |\n",
       "| 10 | 1744-08-01 |     NA |    NA | Ã…land |\n",
       "\n"
      ],
      "text/plain": [
       "   dt         AverageTemperature AverageTemperatureUncertainty Country\n",
       "1  1743-11-01  4.384             2.294                         Ã…land \n",
       "2  1743-12-01     NA                NA                         Ã…land \n",
       "3  1744-01-01     NA                NA                         Ã…land \n",
       "4  1744-02-01     NA                NA                         Ã…land \n",
       "5  1744-03-01     NA                NA                         Ã…land \n",
       "6  1744-04-01  1.530             4.680                         Ã…land \n",
       "7  1744-05-01  6.702             1.789                         Ã…land \n",
       "8  1744-06-01 11.609             1.577                         Ã…land \n",
       "9  1744-07-01 15.342             1.410                         Ã…land \n",
       "10 1744-08-01     NA                NA                         Ã…land "
      ]
     },
     "metadata": {},
     "output_type": "display_data"
    }
   ],
   "source": [
    "head(mydata, n = 10)"
   ]
  },
  {
   "cell_type": "markdown",
   "metadata": {},
   "source": [
    "***\n",
    "\n",
    "### table( ): check variable values and frequency"
   ]
  },
  {
   "cell_type": "markdown",
   "metadata": {},
   "source": [
    "```\n",
    "table(mydata$Country)\n",
    "```"
   ]
  },
  {
   "cell_type": "code",
   "execution_count": 7,
   "metadata": {},
   "outputs": [
    {
     "data": {
      "text/plain": [
       "\n",
       "        Ã…land    Afghanistan         Africa        Albania        Algeria \n",
       "          3239           2106           1965           3239           2721 \n",
       "American Samoa        Andorra         Angola       Anguilla     Antarctica \n",
       "          1761           3239           1878           2277            764 "
      ]
     },
     "metadata": {},
     "output_type": "display_data"
    }
   ],
   "source": [
    "head(table(mydata$Country), n=10)"
   ]
  },
  {
   "cell_type": "markdown",
   "metadata": {},
   "source": [
    "***\n",
    "\n",
    "## Basic data management commands\n",
    "\n",
    "### is.factor( ): check if the variable is defined as categorical"
   ]
  },
  {
   "cell_type": "code",
   "execution_count": 8,
   "metadata": {},
   "outputs": [
    {
     "data": {
      "text/html": [
       "TRUE"
      ],
      "text/latex": [
       "TRUE"
      ],
      "text/markdown": [
       "TRUE"
      ],
      "text/plain": [
       "[1] TRUE"
      ]
     },
     "metadata": {},
     "output_type": "display_data"
    }
   ],
   "source": [
    "is.factor(mydata$Country)"
   ]
  },
  {
   "cell_type": "markdown",
   "metadata": {},
   "source": [
    "### as.factor( ): changes variable to categorical format"
   ]
  },
  {
   "cell_type": "code",
   "execution_count": 9,
   "metadata": {},
   "outputs": [],
   "source": [
    "mydata$Country <- as.factor(mydata$Country)"
   ]
  },
  {
   "cell_type": "code",
   "execution_count": 10,
   "metadata": {},
   "outputs": [
    {
     "data": {
      "text/html": [
       "TRUE"
      ],
      "text/latex": [
       "TRUE"
      ],
      "text/markdown": [
       "TRUE"
      ],
      "text/plain": [
       "[1] TRUE"
      ]
     },
     "metadata": {},
     "output_type": "display_data"
    }
   ],
   "source": [
    "is.factor(mydata$Country)"
   ]
  },
  {
   "cell_type": "markdown",
   "metadata": {},
   "source": [
    "### numeric( ): check if the variable is defined as numerical"
   ]
  },
  {
   "cell_type": "code",
   "execution_count": 11,
   "metadata": {},
   "outputs": [
    {
     "data": {
      "text/html": [
       "TRUE"
      ],
      "text/latex": [
       "TRUE"
      ],
      "text/markdown": [
       "TRUE"
      ],
      "text/plain": [
       "[1] TRUE"
      ]
     },
     "metadata": {},
     "output_type": "display_data"
    }
   ],
   "source": [
    "is.numeric(mydata$AverageTemperature)"
   ]
  },
  {
   "cell_type": "markdown",
   "metadata": {},
   "source": [
    "***\n",
    "\n",
    "## Data management with \"dplyr\" package"
   ]
  },
  {
   "cell_type": "markdown",
   "metadata": {},
   "source": [
    "### Removing empty cells/rows"
   ]
  },
  {
   "cell_type": "code",
   "execution_count": 12,
   "metadata": {},
   "outputs": [
    {
     "data": {
      "text/html": [
       "<table>\n",
       "<caption>A data.frame: 10 × 4</caption>\n",
       "<thead>\n",
       "\t<tr><th></th><th scope="col">dt</th><th scope="col">AverageTemperature</th><th scope="col">AverageTemperatureUncertainty</th><th scope="col">Country</th></tr>\n",
       "\t<tr><th></th><th scope="col">&lt;fct&gt;</th><th scope="col">&lt;dbl&gt;</th><th scope="col">&lt;dbl&gt;</th><th scope="col">&lt;fct&gt;</th></tr>\n",
       "</thead>\n",
       "<tbody>\n",
       "\t<tr><th scope="row">1</th><td>1743-11-01</td><td> 4.384</td><td>2.294</td><td>Ã…land</td></tr>\n",
       "\t<tr><th scope="row">2</th><td>1743-12-01</td><td>    NA</td><td>   NA</td><td>Ã…land</td></tr>\n",
       "\t<tr><th scope="row">3</th><td>1744-01-01</td><td>    NA</td><td>   NA</td><td>Ã…land</td></tr>\n",
       "\t<tr><th scope="row">4</th><td>1744-02-01</td><td>    NA</td><td>   NA</td><td>Ã…land</td></tr>\n",
       "\t<tr><th scope="row">5</th><td>1744-03-01</td><td>    NA</td><td>   NA</td><td>Ã…land</td></tr>\n",
       "\t<tr><th scope="row">6</th><td>1744-04-01</td><td> 1.530</td><td>4.680</td><td>Ã…land</td></tr>\n",
       "\t<tr><th scope="row">7</th><td>1744-05-01</td><td> 6.702</td><td>1.789</td><td>Ã…land</td></tr>\n",
       "\t<tr><th scope="row">8</th><td>1744-06-01</td><td>11.609</td><td>1.577</td><td>Ã…land</td></tr>\n",
       "\t<tr><th scope="row">9</th><td>1744-07-01</td><td>15.342</td><td>1.410</td><td>Ã…land</td></tr>\n",
       "\t<tr><th scope="row">10</th><td>1744-08-01</td><td>    NA</td><td>   NA</td><td>Ã…land</td></tr>\n",
       "</tbody>\n",
       "</table>\n"
      ],
      "text/latex": [
       "A data.frame: 10 × 4\n",
       "\\begin{tabular}{r|llll}\n",
       "  & dt & AverageTemperature & AverageTemperatureUncertainty & Country\\\\\n",
       "  & <fct> & <dbl> & <dbl> & <fct>\\\\\n",
       "\\hline\n",
       "\t1 & 1743-11-01 &  4.384 & 2.294 & Ã…land\\\\\n",
       "\t2 & 1743-12-01 &     NA &    NA & Ã…land\\\\\n",
       "\t3 & 1744-01-01 &     NA &    NA & Ã…land\\\\\n",
       "\t4 & 1744-02-01 &     NA &    NA & Ã…land\\\\\n",
       "\t5 & 1744-03-01 &     NA &    NA & Ã…land\\\\\n",
       "\t6 & 1744-04-01 &  1.530 & 4.680 & Ã…land\\\\\n",
       "\t7 & 1744-05-01 &  6.702 & 1.789 & Ã…land\\\\\n",
       "\t8 & 1744-06-01 & 11.609 & 1.577 & Ã…land\\\\\n",
       "\t9 & 1744-07-01 & 15.342 & 1.410 & Ã…land\\\\\n",
       "\t10 & 1744-08-01 &     NA &    NA & Ã…land\\\\\n",
       "\\end{tabular}\n"
      ],
      "text/markdown": [
       "\n",
       "A data.frame: 10 × 4\n",
       "\n",
       "| <!--/--> | dt &lt;fct&gt; | AverageTemperature &lt;dbl&gt; | AverageTemperatureUncertainty &lt;dbl&gt; | Country &lt;fct&gt; |\n",
       "|---|---|---|---|---|\n",
       "| 1 | 1743-11-01 |  4.384 | 2.294 | Ã…land |\n",
       "| 2 | 1743-12-01 |     NA |    NA | Ã…land |\n",
       "| 3 | 1744-01-01 |     NA |    NA | Ã…land |\n",
       "| 4 | 1744-02-01 |     NA |    NA | Ã…land |\n",
       "| 5 | 1744-03-01 |     NA |    NA | Ã…land |\n",
       "| 6 | 1744-04-01 |  1.530 | 4.680 | Ã…land |\n",
       "| 7 | 1744-05-01 |  6.702 | 1.789 | Ã…land |\n",
       "| 8 | 1744-06-01 | 11.609 | 1.577 | Ã…land |\n",
       "| 9 | 1744-07-01 | 15.342 | 1.410 | Ã…land |\n",
       "| 10 | 1744-08-01 |     NA |    NA | Ã…land |\n",
       "\n"
      ],
      "text/plain": [
       "   dt         AverageTemperature AverageTemperatureUncertainty Country\n",
       "1  1743-11-01  4.384             2.294                         Ã…land \n",
       "2  1743-12-01     NA                NA                         Ã…land \n",
       "3  1744-01-01     NA                NA                         Ã…land \n",
       "4  1744-02-01     NA                NA                         Ã…land \n",
       "5  1744-03-01     NA                NA                         Ã…land \n",
       "6  1744-04-01  1.530             4.680                         Ã…land \n",
       "7  1744-05-01  6.702             1.789                         Ã…land \n",
       "8  1744-06-01 11.609             1.577                         Ã…land \n",
       "9  1744-07-01 15.342             1.410                         Ã…land \n",
       "10 1744-08-01     NA                NA                         Ã…land "
      ]
     },
     "metadata": {},
     "output_type": "display_data"
    }
   ],
   "source": [
    "head(mydata, n = 10)"
   ]
  },
  {
   "cell_type": "code",
   "execution_count": 13,
   "metadata": {},
   "outputs": [],
   "source": [
    "mydata <- na.omit(mydata)"
   ]
  },
  {
   "cell_type": "code",
   "execution_count": 14,
   "metadata": {},
   "outputs": [
    {
     "data": {
      "text/html": [
       "<table>\n",
       "<caption>A data.frame: 10 × 4</caption>\n",
       "<thead>\n",
       "\t<tr><th></th><th scope="col">dt</th><th scope="col">AverageTemperature</th><th scope="col">AverageTemperatureUncertainty</th><th scope="col">Country</th></tr>\n",
       "\t<tr><th></th><th scope="col">&lt;fct&gt;</th><th scope="col">&lt;dbl&gt;</th><th scope="col">&lt;dbl&gt;</th><th scope="col">&lt;fct&gt;</th></tr>\n",
       "</thead>\n",
       "<tbody>\n",
       "\t<tr><th scope="row">1</th><td>1743-11-01</td><td> 4.384</td><td>2.294</td><td>Ã…land</td></tr>\n",
       "\t<tr><th scope="row">6</th><td>1744-04-01</td><td> 1.530</td><td>4.680</td><td>Ã…land</td></tr>\n",
       "\t<tr><th scope="row">7</th><td>1744-05-01</td><td> 6.702</td><td>1.789</td><td>Ã…land</td></tr>\n",
       "\t<tr><th scope="row">8</th><td>1744-06-01</td><td>11.609</td><td>1.577</td><td>Ã…land</td></tr>\n",
       "\t<tr><th scope="row">9</th><td>1744-07-01</td><td>15.342</td><td>1.410</td><td>Ã…land</td></tr>\n",
       "\t<tr><th scope="row">11</th><td>1744-09-01</td><td>11.702</td><td>1.517</td><td>Ã…land</td></tr>\n",
       "\t<tr><th scope="row">12</th><td>1744-10-01</td><td> 5.477</td><td>1.862</td><td>Ã…land</td></tr>\n",
       "\t<tr><th scope="row">13</th><td>1744-11-01</td><td> 3.407</td><td>1.425</td><td>Ã…land</td></tr>\n",
       "\t<tr><th scope="row">14</th><td>1744-12-01</td><td>-2.181</td><td>1.641</td><td>Ã…land</td></tr>\n",
       "\t<tr><th scope="row">15</th><td>1745-01-01</td><td>-3.850</td><td>1.841</td><td>Ã…land</td></tr>\n",
       "</tbody>\n",
       "</table>\n"
      ],
      "text/latex": [
       "A data.frame: 10 × 4\n",
       "\\begin{tabular}{r|llll}\n",
       "  & dt & AverageTemperature & AverageTemperatureUncertainty & Country\\\\\n",
       "  & <fct> & <dbl> & <dbl> & <fct>\\\\\n",
       "\\hline\n",
       "\t1 & 1743-11-01 &  4.384 & 2.294 & Ã…land\\\\\n",
       "\t6 & 1744-04-01 &  1.530 & 4.680 & Ã…land\\\\\n",
       "\t7 & 1744-05-01 &  6.702 & 1.789 & Ã…land\\\\\n",
       "\t8 & 1744-06-01 & 11.609 & 1.577 & Ã…land\\\\\n",
       "\t9 & 1744-07-01 & 15.342 & 1.410 & Ã…land\\\\\n",
       "\t11 & 1744-09-01 & 11.702 & 1.517 & Ã…land\\\\\n",
       "\t12 & 1744-10-01 &  5.477 & 1.862 & Ã…land\\\\\n",
       "\t13 & 1744-11-01 &  3.407 & 1.425 & Ã…land\\\\\n",
       "\t14 & 1744-12-01 & -2.181 & 1.641 & Ã…land\\\\\n",
       "\t15 & 1745-01-01 & -3.850 & 1.841 & Ã…land\\\\\n",
       "\\end{tabular}\n"
      ],
      "text/markdown": [
       "\n",
       "A data.frame: 10 × 4\n",
       "\n",
       "| <!--/--> | dt &lt;fct&gt; | AverageTemperature &lt;dbl&gt; | AverageTemperatureUncertainty &lt;dbl&gt; | Country &lt;fct&gt; |\n",
       "|---|---|---|---|---|\n",
       "| 1 | 1743-11-01 |  4.384 | 2.294 | Ã…land |\n",
       "| 6 | 1744-04-01 |  1.530 | 4.680 | Ã…land |\n",
       "| 7 | 1744-05-01 |  6.702 | 1.789 | Ã…land |\n",
       "| 8 | 1744-06-01 | 11.609 | 1.577 | Ã…land |\n",
       "| 9 | 1744-07-01 | 15.342 | 1.410 | Ã…land |\n",
       "| 11 | 1744-09-01 | 11.702 | 1.517 | Ã…land |\n",
       "| 12 | 1744-10-01 |  5.477 | 1.862 | Ã…land |\n",
       "| 13 | 1744-11-01 |  3.407 | 1.425 | Ã…land |\n",
       "| 14 | 1744-12-01 | -2.181 | 1.641 | Ã…land |\n",
       "| 15 | 1745-01-01 | -3.850 | 1.841 | Ã…land |\n",
       "\n"
      ],
      "text/plain": [
       "   dt         AverageTemperature AverageTemperatureUncertainty Country\n",
       "1  1743-11-01  4.384             2.294                         Ã…land \n",
       "6  1744-04-01  1.530             4.680                         Ã…land \n",
       "7  1744-05-01  6.702             1.789                         Ã…land \n",
       "8  1744-06-01 11.609             1.577                         Ã…land \n",
       "9  1744-07-01 15.342             1.410                         Ã…land \n",
       "11 1744-09-01 11.702             1.517                         Ã…land \n",
       "12 1744-10-01  5.477             1.862                         Ã…land \n",
       "13 1744-11-01  3.407             1.425                         Ã…land \n",
       "14 1744-12-01 -2.181             1.641                         Ã…land \n",
       "15 1745-01-01 -3.850             1.841                         Ã…land "
      ]
     },
     "metadata": {},
     "output_type": "display_data"
    }
   ],
   "source": [
    "head(mydata, n = 10)"
   ]
  },
  {
   "cell_type": "markdown",
   "metadata": {},
   "source": [
    "\n",
    "***\n",
    "\n",
    "### select ( ): selects columns based on columns names"
   ]
  },
  {
   "cell_type": "code",
   "execution_count": 15,
   "metadata": {},
   "outputs": [
    {
     "data": {
      "text/html": [
       "<table>\n",
       "<caption>A data.frame: 5 × 2</caption>\n",
       "<thead>\n",
       "\t<tr><th></th><th scope="col">dt</th><th scope="col">Country</th></tr>\n",
       "\t<tr><th></th><th scope="col">&lt;fct&gt;</th><th scope="col">&lt;fct&gt;</th></tr>\n",
       "</thead>\n",
       "<tbody>\n",
       "\t<tr><th scope="row">1</th><td>1743-11-01</td><td>Ã…land</td></tr>\n",
       "\t<tr><th scope="row">6</th><td>1744-04-01</td><td>Ã…land</td></tr>\n",
       "\t<tr><th scope="row">7</th><td>1744-05-01</td><td>Ã…land</td></tr>\n",
       "\t<tr><th scope="row">8</th><td>1744-06-01</td><td>Ã…land</td></tr>\n",
       "\t<tr><th scope="row">9</th><td>1744-07-01</td><td>Ã…land</td></tr>\n",
       "</tbody>\n",
       "</table>\n"
      ],
      "text/latex": [
       "A data.frame: 5 × 2\n",
       "\\begin{tabular}{r|ll}\n",
       "  & dt & Country\\\\\n",
       "  & <fct> & <fct>\\\\\n",
       "\\hline\n",
       "\t1 & 1743-11-01 & Ã…land\\\\\n",
       "\t6 & 1744-04-01 & Ã…land\\\\\n",
       "\t7 & 1744-05-01 & Ã…land\\\\\n",
       "\t8 & 1744-06-01 & Ã…land\\\\\n",
       "\t9 & 1744-07-01 & Ã…land\\\\\n",
       "\\end{tabular}\n"
      ],
      "text/markdown": [
       "\n",
       "A data.frame: 5 × 2\n",
       "\n",
       "| <!--/--> | dt &lt;fct&gt; | Country &lt;fct&gt; |\n",
       "|---|---|---|\n",
       "| 1 | 1743-11-01 | Ã…land |\n",
       "| 6 | 1744-04-01 | Ã…land |\n",
       "| 7 | 1744-05-01 | Ã…land |\n",
       "| 8 | 1744-06-01 | Ã…land |\n",
       "| 9 | 1744-07-01 | Ã…land |\n",
       "\n"
      ],
      "text/plain": [
       "  dt         Country\n",
       "1 1743-11-01 Ã…land \n",
       "6 1744-04-01 Ã…land \n",
       "7 1744-05-01 Ã…land \n",
       "8 1744-06-01 Ã…land \n",
       "9 1744-07-01 Ã…land "
      ]
     },
     "metadata": {},
     "output_type": "display_data"
    }
   ],
   "source": [
    "head(select(mydata, dt, Country), n=5)"
   ]
  },
  {
   "cell_type": "markdown",
   "metadata": {},
   "source": [
    "***\n",
    "\n",
    "### filter ( ): selects cases based on conditions"
   ]
  },
  {
   "cell_type": "code",
   "execution_count": 16,
   "metadata": {},
   "outputs": [
    {
     "data": {
      "text/html": [
       "<table>\n",
       "<caption>A data.frame: 6 × 4</caption>\n",
       "<thead>\n",
       "\t<tr><th></th><th scope="col">dt</th><th scope="col">AverageTemperature</th><th scope="col">AverageTemperatureUncertainty</th><th scope="col">Country</th></tr>\n",
       "\t<tr><th></th><th scope="col">&lt;fct&gt;</th><th scope="col">&lt;dbl&gt;</th><th scope="col">&lt;dbl&gt;</th><th scope="col">&lt;fct&gt;</th></tr>\n",
       "</thead>\n",
       "<tbody>\n",
       "\t<tr><th scope="row">1</th><td>1768-09-01</td><td>  5.257</td><td>3.107</td><td>Canada</td></tr>\n",
       "\t<tr><th scope="row">2</th><td>1768-10-01</td><td> -3.393</td><td>2.981</td><td>Canada</td></tr>\n",
       "\t<tr><th scope="row">3</th><td>1768-11-01</td><td>-12.829</td><td>3.967</td><td>Canada</td></tr>\n",
       "\t<tr><th scope="row">4</th><td>1768-12-01</td><td>-20.582</td><td>4.622</td><td>Canada</td></tr>\n",
       "\t<tr><th scope="row">5</th><td>1769-01-01</td><td>-24.756</td><td>4.722</td><td>Canada</td></tr>\n",
       "\t<tr><th scope="row">6</th><td>1769-02-01</td><td>-22.915</td><td>2.871</td><td>Canada</td></tr>\n",
       "</tbody>\n",
       "</table>\n"
      ],
      "text/latex": [
       "A data.frame: 6 × 4\n",
       "\\begin{tabular}{r|llll}\n",
       "  & dt & AverageTemperature & AverageTemperatureUncertainty & Country\\\\\n",
       "  & <fct> & <dbl> & <dbl> & <fct>\\\\\n",
       "\\hline\n",
       "\t1 & 1768-09-01 &   5.257 & 3.107 & Canada\\\\\n",
       "\t2 & 1768-10-01 &  -3.393 & 2.981 & Canada\\\\\n",
       "\t3 & 1768-11-01 & -12.829 & 3.967 & Canada\\\\\n",
       "\t4 & 1768-12-01 & -20.582 & 4.622 & Canada\\\\\n",
       "\t5 & 1769-01-01 & -24.756 & 4.722 & Canada\\\\\n",
       "\t6 & 1769-02-01 & -22.915 & 2.871 & Canada\\\\\n",
       "\\end{tabular}\n"
      ],
      "text/markdown": [
       "\n",
       "A data.frame: 6 × 4\n",
       "\n",
       "| <!--/--> | dt &lt;fct&gt; | AverageTemperature &lt;dbl&gt; | AverageTemperatureUncertainty &lt;dbl&gt; | Country &lt;fct&gt; |\n",
       "|---|---|---|---|---|\n",
       "| 1 | 1768-09-01 |   5.257 | 3.107 | Canada |\n",
       "| 2 | 1768-10-01 |  -3.393 | 2.981 | Canada |\n",
       "| 3 | 1768-11-01 | -12.829 | 3.967 | Canada |\n",
       "| 4 | 1768-12-01 | -20.582 | 4.622 | Canada |\n",
       "| 5 | 1769-01-01 | -24.756 | 4.722 | Canada |\n",
       "| 6 | 1769-02-01 | -22.915 | 2.871 | Canada |\n",
       "\n"
      ],
      "text/plain": [
       "  dt         AverageTemperature AverageTemperatureUncertainty Country\n",
       "1 1768-09-01   5.257            3.107                         Canada \n",
       "2 1768-10-01  -3.393            2.981                         Canada \n",
       "3 1768-11-01 -12.829            3.967                         Canada \n",
       "4 1768-12-01 -20.582            4.622                         Canada \n",
       "5 1769-01-01 -24.756            4.722                         Canada \n",
       "6 1769-02-01 -22.915            2.871                         Canada "
      ]
     },
     "metadata": {},
     "output_type": "display_data"
    }
   ],
   "source": [
    "head(filter(mydata, Country==\"Canada\"))"
   ]
  },
  {
   "cell_type": "markdown",
   "metadata": {},
   "source": [
    "### filter may accept more than one condition"
   ]
  },
  {
   "cell_type": "code",
   "execution_count": 17,
   "metadata": {},
   "outputs": [
    {
     "data": {
      "text/html": [
       "<table>\n",
       "<caption>A data.frame: 6 × 4</caption>\n",
       "<thead>\n",
       "\t<tr><th></th><th scope="col">dt</th><th scope="col">AverageTemperature</th><th scope="col">AverageTemperatureUncertainty</th><th scope="col">Country</th></tr>\n",
       "\t<tr><th></th><th scope="col">&lt;fct&gt;</th><th scope="col">&lt;dbl&gt;</th><th scope="col">&lt;dbl&gt;</th><th scope="col">&lt;fct&gt;</th></tr>\n",
       "</thead>\n",
       "<tbody>\n",
       "\t<tr><th scope="row">1</th><td>1768-09-01</td><td>  5.257</td><td>3.107</td><td>Canada</td></tr>\n",
       "\t<tr><th scope="row">2</th><td>1768-10-01</td><td> -3.393</td><td>2.981</td><td>Canada</td></tr>\n",
       "\t<tr><th scope="row">3</th><td>1768-11-01</td><td>-12.829</td><td>3.967</td><td>Canada</td></tr>\n",
       "\t<tr><th scope="row">4</th><td>1768-12-01</td><td>-20.582</td><td>4.622</td><td>Canada</td></tr>\n",
       "\t<tr><th scope="row">5</th><td>1769-01-01</td><td>-24.756</td><td>4.722</td><td>Canada</td></tr>\n",
       "\t<tr><th scope="row">6</th><td>1769-02-01</td><td>-22.915</td><td>2.871</td><td>Canada</td></tr>\n",
       "</tbody>\n",
       "</table>\n"
      ],
      "text/latex": [
       "A data.frame: 6 × 4\n",
       "\\begin{tabular}{r|llll}\n",
       "  & dt & AverageTemperature & AverageTemperatureUncertainty & Country\\\\\n",
       "  & <fct> & <dbl> & <dbl> & <fct>\\\\\n",
       "\\hline\n",
       "\t1 & 1768-09-01 &   5.257 & 3.107 & Canada\\\\\n",
       "\t2 & 1768-10-01 &  -3.393 & 2.981 & Canada\\\\\n",
       "\t3 & 1768-11-01 & -12.829 & 3.967 & Canada\\\\\n",
       "\t4 & 1768-12-01 & -20.582 & 4.622 & Canada\\\\\n",
       "\t5 & 1769-01-01 & -24.756 & 4.722 & Canada\\\\\n",
       "\t6 & 1769-02-01 & -22.915 & 2.871 & Canada\\\\\n",
       "\\end{tabular}\n"
      ],
      "text/markdown": [
       "\n",
       "A data.frame: 6 × 4\n",
       "\n",
       "| <!--/--> | dt &lt;fct&gt; | AverageTemperature &lt;dbl&gt; | AverageTemperatureUncertainty &lt;dbl&gt; | Country &lt;fct&gt; |\n",
       "|---|---|---|---|---|\n",
       "| 1 | 1768-09-01 |   5.257 | 3.107 | Canada |\n",
       "| 2 | 1768-10-01 |  -3.393 | 2.981 | Canada |\n",
       "| 3 | 1768-11-01 | -12.829 | 3.967 | Canada |\n",
       "| 4 | 1768-12-01 | -20.582 | 4.622 | Canada |\n",
       "| 5 | 1769-01-01 | -24.756 | 4.722 | Canada |\n",
       "| 6 | 1769-02-01 | -22.915 | 2.871 | Canada |\n",
       "\n"
      ],
      "text/plain": [
       "  dt         AverageTemperature AverageTemperatureUncertainty Country\n",
       "1 1768-09-01   5.257            3.107                         Canada \n",
       "2 1768-10-01  -3.393            2.981                         Canada \n",
       "3 1768-11-01 -12.829            3.967                         Canada \n",
       "4 1768-12-01 -20.582            4.622                         Canada \n",
       "5 1769-01-01 -24.756            4.722                         Canada \n",
       "6 1769-02-01 -22.915            2.871                         Canada "
      ]
     },
     "metadata": {},
     "output_type": "display_data"
    }
   ],
   "source": [
    "head(filter(mydata, Country==\"Canada\" | Country == \"China\"))"
   ]
  },
  {
   "cell_type": "code",
   "execution_count": 18,
   "metadata": {},
   "outputs": [
    {
     "data": {
      "text/html": [
       "<table>\n",
       "<caption>A data.frame: 6 × 4</caption>\n",
       "<thead>\n",
       "\t<tr><th></th><th scope="col">dt</th><th scope="col">AverageTemperature</th><th scope="col">AverageTemperatureUncertainty</th><th scope="col">Country</th></tr>\n",
       "\t<tr><th></th><th scope="col">&lt;fct&gt;</th><th scope="col">&lt;dbl&gt;</th><th scope="col">&lt;dbl&gt;</th><th scope="col">&lt;fct&gt;</th></tr>\n",
       "</thead>\n",
       "<tbody>\n",
       "\t<tr><th scope="row">1</th><td>1769-07-01</td><td>13.953</td><td>2.945</td><td>Canada</td></tr>\n",
       "\t<tr><th scope="row">2</th><td>1775-07-01</td><td>12.797</td><td>2.343</td><td>Canada</td></tr>\n",
       "\t<tr><th scope="row">3</th><td>1776-08-01</td><td>12.487</td><td>3.137</td><td>Canada</td></tr>\n",
       "\t<tr><th scope="row">4</th><td>1780-07-01</td><td>14.635</td><td>2.816</td><td>Canada</td></tr>\n",
       "\t<tr><th scope="row">5</th><td>1782-07-01</td><td>12.307</td><td>4.053</td><td>Canada</td></tr>\n",
       "\t<tr><th scope="row">6</th><td>1796-07-01</td><td>12.637</td><td>3.010</td><td>Canada</td></tr>\n",
       "</tbody>\n",
       "</table>\n"
      ],
      "text/latex": [
       "A data.frame: 6 × 4\n",
       "\\begin{tabular}{r|llll}\n",
       "  & dt & AverageTemperature & AverageTemperatureUncertainty & Country\\\\\n",
       "  & <fct> & <dbl> & <dbl> & <fct>\\\\\n",
       "\\hline\n",
       "\t1 & 1769-07-01 & 13.953 & 2.945 & Canada\\\\\n",
       "\t2 & 1775-07-01 & 12.797 & 2.343 & Canada\\\\\n",
       "\t3 & 1776-08-01 & 12.487 & 3.137 & Canada\\\\\n",
       "\t4 & 1780-07-01 & 14.635 & 2.816 & Canada\\\\\n",
       "\t5 & 1782-07-01 & 12.307 & 4.053 & Canada\\\\\n",
       "\t6 & 1796-07-01 & 12.637 & 3.010 & Canada\\\\\n",
       "\\end{tabular}\n"
      ],
      "text/markdown": [
       "\n",
       "A data.frame: 6 × 4\n",
       "\n",
       "| <!--/--> | dt &lt;fct&gt; | AverageTemperature &lt;dbl&gt; | AverageTemperatureUncertainty &lt;dbl&gt; | Country &lt;fct&gt; |\n",
       "|---|---|---|---|---|\n",
       "| 1 | 1769-07-01 | 13.953 | 2.945 | Canada |\n",
       "| 2 | 1775-07-01 | 12.797 | 2.343 | Canada |\n",
       "| 3 | 1776-08-01 | 12.487 | 3.137 | Canada |\n",
       "| 4 | 1780-07-01 | 14.635 | 2.816 | Canada |\n",
       "| 5 | 1782-07-01 | 12.307 | 4.053 | Canada |\n",
       "| 6 | 1796-07-01 | 12.637 | 3.010 | Canada |\n",
       "\n"
      ],
      "text/plain": [
       "  dt         AverageTemperature AverageTemperatureUncertainty Country\n",
       "1 1769-07-01 13.953             2.945                         Canada \n",
       "2 1775-07-01 12.797             2.343                         Canada \n",
       "3 1776-08-01 12.487             3.137                         Canada \n",
       "4 1780-07-01 14.635             2.816                         Canada \n",
       "5 1782-07-01 12.307             4.053                         Canada \n",
       "6 1796-07-01 12.637             3.010                         Canada "
      ]
     },
     "metadata": {},
     "output_type": "display_data"
    }
   ],
   "source": [
    "head(filter(mydata, Country==\"Canada\" & AverageTemperature > 12))"
   ]
  },
  {
   "cell_type": "markdown",
   "metadata": {},
   "source": [
    "***\n",
    "\n",
    "### mutate( ): adds new variables\n",
    "\n",
    "#### Adding column representing the year"
   ]
  },
  {
   "cell_type": "code",
   "execution_count": 19,
   "metadata": {},
   "outputs": [],
   "source": [
    "mydata <- mutate(mydata, year = as.numeric(format(as.Date(dt), \"%Y\")))"
   ]
  },
  {
   "cell_type": "code",
   "execution_count": 20,
   "metadata": {},
   "outputs": [
    {
     "data": {
      "text/html": [
       "<table>\n",
       "<caption>A data.frame: 6 × 5</caption>\n",
       "<thead>\n",
       "\t<tr><th></th><th scope="col">dt</th><th scope="col">AverageTemperature</th><th scope="col">AverageTemperatureUncertainty</th><th scope="col">Country</th><th scope="col">year</th></tr>\n",
       "\t<tr><th></th><th scope="col">&lt;fct&gt;</th><th scope="col">&lt;dbl&gt;</th><th scope="col">&lt;dbl&gt;</th><th scope="col">&lt;fct&gt;</th><th scope="col">&lt;dbl&gt;</th></tr>\n",
       "</thead>\n",
       "<tbody>\n",
       "\t<tr><th scope="row">1</th><td>1743-11-01</td><td> 4.384</td><td>2.294</td><td>Ã…land</td><td>1743</td></tr>\n",
       "\t<tr><th scope="row">2</th><td>1744-04-01</td><td> 1.530</td><td>4.680</td><td>Ã…land</td><td>1744</td></tr>\n",
       "\t<tr><th scope="row">3</th><td>1744-05-01</td><td> 6.702</td><td>1.789</td><td>Ã…land</td><td>1744</td></tr>\n",
       "\t<tr><th scope="row">4</th><td>1744-06-01</td><td>11.609</td><td>1.577</td><td>Ã…land</td><td>1744</td></tr>\n",
       "\t<tr><th scope="row">5</th><td>1744-07-01</td><td>15.342</td><td>1.410</td><td>Ã…land</td><td>1744</td></tr>\n",
       "\t<tr><th scope="row">6</th><td>1744-09-01</td><td>11.702</td><td>1.517</td><td>Ã…land</td><td>1744</td></tr>\n",
       "</tbody>\n",
       "</table>\n"
      ],
      "text/latex": [
       "A data.frame: 6 × 5\n",
       "\\begin{tabular}{r|lllll}\n",
       "  & dt & AverageTemperature & AverageTemperatureUncertainty & Country & year\\\\\n",
       "  & <fct> & <dbl> & <dbl> & <fct> & <dbl>\\\\\n",
       "\\hline\n",
       "\t1 & 1743-11-01 &  4.384 & 2.294 & Ã…land & 1743\\\\\n",
       "\t2 & 1744-04-01 &  1.530 & 4.680 & Ã…land & 1744\\\\\n",
       "\t3 & 1744-05-01 &  6.702 & 1.789 & Ã…land & 1744\\\\\n",
       "\t4 & 1744-06-01 & 11.609 & 1.577 & Ã…land & 1744\\\\\n",
       "\t5 & 1744-07-01 & 15.342 & 1.410 & Ã…land & 1744\\\\\n",
       "\t6 & 1744-09-01 & 11.702 & 1.517 & Ã…land & 1744\\\\\n",
       "\\end{tabular}\n"
      ],
      "text/markdown": [
       "\n",
       "A data.frame: 6 × 5\n",
       "\n",
       "| <!--/--> | dt &lt;fct&gt; | AverageTemperature &lt;dbl&gt; | AverageTemperatureUncertainty &lt;dbl&gt; | Country &lt;fct&gt; | year &lt;dbl&gt; |\n",
       "|---|---|---|---|---|---|\n",
       "| 1 | 1743-11-01 |  4.384 | 2.294 | Ã…land | 1743 |\n",
       "| 2 | 1744-04-01 |  1.530 | 4.680 | Ã…land | 1744 |\n",
       "| 3 | 1744-05-01 |  6.702 | 1.789 | Ã…land | 1744 |\n",
       "| 4 | 1744-06-01 | 11.609 | 1.577 | Ã…land | 1744 |\n",
       "| 5 | 1744-07-01 | 15.342 | 1.410 | Ã…land | 1744 |\n",
       "| 6 | 1744-09-01 | 11.702 | 1.517 | Ã…land | 1744 |\n",
       "\n"
      ],
      "text/plain": [
       "  dt         AverageTemperature AverageTemperatureUncertainty Country year\n",
       "1 1743-11-01  4.384             2.294                         Ã…land  1743\n",
       "2 1744-04-01  1.530             4.680                         Ã…land  1744\n",
       "3 1744-05-01  6.702             1.789                         Ã…land  1744\n",
       "4 1744-06-01 11.609             1.577                         Ã…land  1744\n",
       "5 1744-07-01 15.342             1.410                         Ã…land  1744\n",
       "6 1744-09-01 11.702             1.517                         Ã…land  1744"
      ]
     },
     "metadata": {},
     "output_type": "display_data"
    }
   ],
   "source": [
    "head(mydata)"
   ]
  },
  {
   "cell_type": "code",
   "execution_count": 21,
   "metadata": {},
   "outputs": [
    {
     "data": {
      "text/html": [
       "TRUE"
      ],
      "text/latex": [
       "TRUE"
      ],
      "text/markdown": [
       "TRUE"
      ],
      "text/plain": [
       "[1] TRUE"
      ]
     },
     "metadata": {},
     "output_type": "display_data"
    }
   ],
   "source": [
    "is.numeric(mydata$year)"
   ]
  },
  {
   "cell_type": "markdown",
   "metadata": {},
   "source": [
    "**Whait? What?**\n",
    "\n",
    "Command breakdown:\n",
    "\n",
    "The commands below should be run on RStudio:"
   ]
  },
  {
   "cell_type": "markdown",
   "metadata": {},
   "source": [
    "```\n",
    "format(as.Date(mydata$dt), \"%Y\")\n",
    "as.numeric(format(as.Date(mydata$dt), \"%Y\"))\n",
    "mutate(mydata, year = as.numeric(format(as.Date(dt), \"%Y\")))\n",
    "mydata <- mutate(mydata, year = as.numeric(format(as.Date(dt), \"%Y\")))\n",
    "```"
   ]
  },
  {
   "cell_type": "markdown",
   "metadata": {},
   "source": [
    "***\n",
    "\n",
    "#### Adding column representing the industrial era"
   ]
  },
  {
   "cell_type": "code",
   "execution_count": 22,
   "metadata": {},
   "outputs": [
    {
     "data": {
      "text/html": [
       "<table>\n",
       "<caption>A data.frame: 5 × 6</caption>\n",
       "<thead>\n",
       "\t<tr><th></th><th scope="col">dt</th><th scope="col">AverageTemperature</th><th scope="col">AverageTemperatureUncertainty</th><th scope="col">Country</th><th scope="col">year</th><th scope="col">era</th></tr>\n",
       "\t<tr><th></th><th scope="col">&lt;fct&gt;</th><th scope="col">&lt;dbl&gt;</th><th scope="col">&lt;dbl&gt;</th><th scope="col">&lt;fct&gt;</th><th scope="col">&lt;dbl&gt;</th><th scope="col">&lt;chr&gt;</th></tr>\n",
       "</thead>\n",
       "<tbody>\n",
       "\t<tr><th scope="row">1</th><td>1743-11-01</td><td> 4.384</td><td>2.294</td><td>Ã…land</td><td>1743</td><td>gas &amp; oil</td></tr>\n",
       "\t<tr><th scope="row">2</th><td>1744-04-01</td><td> 1.530</td><td>4.680</td><td>Ã…land</td><td>1744</td><td>gas &amp; oil</td></tr>\n",
       "\t<tr><th scope="row">3</th><td>1744-05-01</td><td> 6.702</td><td>1.789</td><td>Ã…land</td><td>1744</td><td>gas &amp; oil</td></tr>\n",
       "\t<tr><th scope="row">4</th><td>1744-06-01</td><td>11.609</td><td>1.577</td><td>Ã…land</td><td>1744</td><td>gas &amp; oil</td></tr>\n",
       "\t<tr><th scope="row">5</th><td>1744-07-01</td><td>15.342</td><td>1.410</td><td>Ã…land</td><td>1744</td><td>gas &amp; oil</td></tr>\n",
       "</tbody>\n",
       "</table>\n"
      ],
      "text/latex": [
       "A data.frame: 5 × 6\n",
       "\\begin{tabular}{r|llllll}\n",
       "  & dt & AverageTemperature & AverageTemperatureUncertainty & Country & year & era\\\\\n",
       "  & <fct> & <dbl> & <dbl> & <fct> & <dbl> & <chr>\\\\\n",
       "\\hline\n",
       "\t1 & 1743-11-01 &  4.384 & 2.294 & Ã…land & 1743 & gas \\& oil\\\\\n",
       "\t2 & 1744-04-01 &  1.530 & 4.680 & Ã…land & 1744 & gas \\& oil\\\\\n",
       "\t3 & 1744-05-01 &  6.702 & 1.789 & Ã…land & 1744 & gas \\& oil\\\\\n",
       "\t4 & 1744-06-01 & 11.609 & 1.577 & Ã…land & 1744 & gas \\& oil\\\\\n",
       "\t5 & 1744-07-01 & 15.342 & 1.410 & Ã…land & 1744 & gas \\& oil\\\\\n",
       "\\end{tabular}\n"
      ],
      "text/markdown": [
       "\n",
       "A data.frame: 5 × 6\n",
       "\n",
       "| <!--/--> | dt &lt;fct&gt; | AverageTemperature &lt;dbl&gt; | AverageTemperatureUncertainty &lt;dbl&gt; | Country &lt;fct&gt; | year &lt;dbl&gt; | era &lt;chr&gt; |\n",
       "|---|---|---|---|---|---|---|\n",
       "| 1 | 1743-11-01 |  4.384 | 2.294 | Ã…land | 1743 | gas &amp; oil |\n",
       "| 2 | 1744-04-01 |  1.530 | 4.680 | Ã…land | 1744 | gas &amp; oil |\n",
       "| 3 | 1744-05-01 |  6.702 | 1.789 | Ã…land | 1744 | gas &amp; oil |\n",
       "| 4 | 1744-06-01 | 11.609 | 1.577 | Ã…land | 1744 | gas &amp; oil |\n",
       "| 5 | 1744-07-01 | 15.342 | 1.410 | Ã…land | 1744 | gas &amp; oil |\n",
       "\n"
      ],
      "text/plain": [
       "  dt         AverageTemperature AverageTemperatureUncertainty Country year\n",
       "1 1743-11-01  4.384             2.294                         Ã…land  1743\n",
       "2 1744-04-01  1.530             4.680                         Ã…land  1744\n",
       "3 1744-05-01  6.702             1.789                         Ã…land  1744\n",
       "4 1744-06-01 11.609             1.577                         Ã…land  1744\n",
       "5 1744-07-01 15.342             1.410                         Ã…land  1744\n",
       "  era      \n",
       "1 gas & oil\n",
       "2 gas & oil\n",
       "3 gas & oil\n",
       "4 gas & oil\n",
       "5 gas & oil"
      ]
     },
     "metadata": {},
     "output_type": "display_data"
    }
   ],
   "source": [
    "mydata <- mutate(mydata, era=if_else(\n",
    "    year <= 1969, \"gas & oil\", \"electronic\",\n",
    "))\n",
    "\n",
    "head(mydata, n=5)"
   ]
  },
  {
   "cell_type": "code",
   "execution_count": 23,
   "metadata": {},
   "outputs": [
    {
     "data": {
      "text/html": [
       "<table>\n",
       "<caption>A data.frame: 5 × 6</caption>\n",
       "<thead>\n",
       "\t<tr><th></th><th scope="col">dt</th><th scope="col">AverageTemperature</th><th scope="col">AverageTemperatureUncertainty</th><th scope="col">Country</th><th scope="col">year</th><th scope="col">era</th></tr>\n",
       "\t<tr><th></th><th scope="col">&lt;fct&gt;</th><th scope="col">&lt;dbl&gt;</th><th scope="col">&lt;dbl&gt;</th><th scope="col">&lt;fct&gt;</th><th scope="col">&lt;dbl&gt;</th><th scope="col">&lt;chr&gt;</th></tr>\n",
       "</thead>\n",
       "<tbody>\n",
       "\t<tr><th scope="row">544807</th><td>2013-04-01</td><td>21.142</td><td>0.495</td><td>Zimbabwe</td><td>2013</td><td>electronic</td></tr>\n",
       "\t<tr><th scope="row">544808</th><td>2013-05-01</td><td>19.059</td><td>1.022</td><td>Zimbabwe</td><td>2013</td><td>electronic</td></tr>\n",
       "\t<tr><th scope="row">544809</th><td>2013-06-01</td><td>17.613</td><td>0.473</td><td>Zimbabwe</td><td>2013</td><td>electronic</td></tr>\n",
       "\t<tr><th scope="row">544810</th><td>2013-07-01</td><td>17.000</td><td>0.453</td><td>Zimbabwe</td><td>2013</td><td>electronic</td></tr>\n",
       "\t<tr><th scope="row">544811</th><td>2013-08-01</td><td>19.759</td><td>0.717</td><td>Zimbabwe</td><td>2013</td><td>electronic</td></tr>\n",
       "</tbody>\n",
       "</table>\n"
      ],
      "text/latex": [
       "A data.frame: 5 × 6\n",
       "\\begin{tabular}{r|llllll}\n",
       "  & dt & AverageTemperature & AverageTemperatureUncertainty & Country & year & era\\\\\n",
       "  & <fct> & <dbl> & <dbl> & <fct> & <dbl> & <chr>\\\\\n",
       "\\hline\n",
       "\t544807 & 2013-04-01 & 21.142 & 0.495 & Zimbabwe & 2013 & electronic\\\\\n",
       "\t544808 & 2013-05-01 & 19.059 & 1.022 & Zimbabwe & 2013 & electronic\\\\\n",
       "\t544809 & 2013-06-01 & 17.613 & 0.473 & Zimbabwe & 2013 & electronic\\\\\n",
       "\t544810 & 2013-07-01 & 17.000 & 0.453 & Zimbabwe & 2013 & electronic\\\\\n",
       "\t544811 & 2013-08-01 & 19.759 & 0.717 & Zimbabwe & 2013 & electronic\\\\\n",
       "\\end{tabular}\n"
      ],
      "text/markdown": [
       "\n",
       "A data.frame: 5 × 6\n",
       "\n",
       "| <!--/--> | dt &lt;fct&gt; | AverageTemperature &lt;dbl&gt; | AverageTemperatureUncertainty &lt;dbl&gt; | Country &lt;fct&gt; | year &lt;dbl&gt; | era &lt;chr&gt; |\n",
       "|---|---|---|---|---|---|---|\n",
       "| 544807 | 2013-04-01 | 21.142 | 0.495 | Zimbabwe | 2013 | electronic |\n",
       "| 544808 | 2013-05-01 | 19.059 | 1.022 | Zimbabwe | 2013 | electronic |\n",
       "| 544809 | 2013-06-01 | 17.613 | 0.473 | Zimbabwe | 2013 | electronic |\n",
       "| 544810 | 2013-07-01 | 17.000 | 0.453 | Zimbabwe | 2013 | electronic |\n",
       "| 544811 | 2013-08-01 | 19.759 | 0.717 | Zimbabwe | 2013 | electronic |\n",
       "\n"
      ],
      "text/plain": [
       "       dt         AverageTemperature AverageTemperatureUncertainty Country \n",
       "544807 2013-04-01 21.142             0.495                         Zimbabwe\n",
       "544808 2013-05-01 19.059             1.022                         Zimbabwe\n",
       "544809 2013-06-01 17.613             0.473                         Zimbabwe\n",
       "544810 2013-07-01 17.000             0.453                         Zimbabwe\n",
       "544811 2013-08-01 19.759             0.717                         Zimbabwe\n",
       "       year era       \n",
       "544807 2013 electronic\n",
       "544808 2013 electronic\n",
       "544809 2013 electronic\n",
       "544810 2013 electronic\n",
       "544811 2013 electronic"
      ]
     },
     "metadata": {},
     "output_type": "display_data"
    }
   ],
   "source": [
    "tail(mydata, n=5)"
   ]
  },
  {
   "cell_type": "markdown",
   "metadata": {},
   "source": [
    "***\n",
    "\n",
    "# Descriptive Statistics\n",
    "\n",
    "<img src=\"figures/learning_objectives.png\">"
   ]
  },
  {
   "cell_type": "markdown",
   "metadata": {},
   "source": [
    "### Descriptive stat with basic summary function"
   ]
  },
  {
   "cell_type": "code",
   "execution_count": 24,
   "metadata": {},
   "outputs": [
    {
     "data": {
      "text/plain": [
       "          dt         AverageTemperature AverageTemperatureUncertainty\n",
       " 1948-02-01:   242   Min.   :-37.66     Min.   : 0.052               \n",
       " 1948-03-01:   242   1st Qu.: 10.03     1st Qu.: 0.323               \n",
       " 1948-04-01:   242   Median : 20.90     Median : 0.571               \n",
       " 1948-05-01:   242   Mean   : 17.19     Mean   : 1.019               \n",
       " 1948-06-01:   242   3rd Qu.: 25.81     3rd Qu.: 1.207               \n",
       " 1948-07-01:   242   Max.   : 38.84     Max.   :15.003               \n",
       " (Other)   :543359                                                   \n",
       "    Country            year          era           \n",
       " Ã…land :  3166   Min.   :1743   Length:544811     \n",
       " Albania:  3166   1st Qu.:1869   Class :character  \n",
       " Andorra:  3166   Median :1919   Mode  :character  \n",
       " Austria:  3166   Mean   :1913                     \n",
       " Belarus:  3166   3rd Qu.:1966                     \n",
       " Belgium:  3166   Max.   :2013                     \n",
       " (Other):525815                                    "
      ]
     },
     "metadata": {},
     "output_type": "display_data"
    }
   ],
   "source": [
    "summary(mydata)"
   ]
  },
  {
   "cell_type": "markdown",
   "metadata": {},
   "source": [
    "***\n",
    "\n",
    "### Descriptive statistics with visualization \n",
    "\n",
    "#### Create histogram for “year” "
   ]
  },
  {
   "cell_type": "code",
   "execution_count": 25,
   "metadata": {},
   "outputs": [
    {
     "data": {
      "image/png": "iVBORw0KGgoAAAANSUhEUgAAA0gAAANICAMAAADKOT/pAAAAMFBMVEUAAABNTU1oaGh8fHyM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",
      "text/plain": [
       "Plot with title \"Histogram of mydata$year\""
      ]
     },
     "metadata": {
      "image/png": {
       "height": 420,
       "width": 420
      },
      "text/plain": {
       "height": 420,
       "width": 420
      }
     },
     "output_type": "display_data"
    }
   ],
   "source": [
    "hist(mydata$year)"
   ]
  },
  {
   "cell_type": "markdown",
   "metadata": {},
   "source": [
    "#### Create a histogram using gpplot 2\n",
    "\n",
    "* ggplot(mydata, aes(x=year)) creates a plot using `mydata` aes defines the `x`, `y` and many other axis\n",
    "* geom_histogram defines de plot as a histogram, `binwidth` defines de width of the bars\n",
    "* scale_y_continuous(trans='log2') transforms the scale of the graph to `log2` delete `+ scale_y_continuous(trans='log2')` and check what happens\n",
    "* theme_light() changes the theme. There are various themes like black and white or color blind. \n",
    "* labs(x=\"years\", y=\"Frequency\", face=\"bold\") changes the `x` and `y` labels in the plot"
   ]
  },
  {
   "cell_type": "code",
   "execution_count": 26,
   "metadata": {},
   "outputs": [
    {
     "name": "stderr",
     "output_type": "stream",
     "text": [
      "Warning message:\n",
      "\"Transformation introduced infinite values in continuous y-axis\"\n",
      "Warning message:\n",
      "\"Removed 34 rows containing missing values (geom_bar).\"\n"
     ]
    },
    {
     "data": {
      "image/png": "iVBORw0KGgoAAAANSUhEUgAAA0gAAANICAMAAADKOT/pAAAAOVBMVEUAAABNTU1ZWVloaGh8\nfHyMjIyampqnp6eysrKzs7O9vb3Hx8fQ0NDZ2dne3t7h4eHp6enw8PD///+StrrqAAAACXBI\nWXMAABJ0AAASdAHeZh94AAAgAElEQVR4nO2di3bTWhJE7SQQ7gAB9P8fO3n6LUu7LenIVdVr\nDeCd4NNS1Z4EJxc2XSaTuXk2rRfIZBQmImUyE0xEymQmmIiUyUwwESmTmWAiUiYzwUSkTGaC\niUiZzAQzlUj/ZTKGM71Ild/0MtHhxfE+vvX5EpcfkXJ86/MlLj8i5fjW50tcfkTK8a3Pl7j8\niJTjW58vcfkRKce3Pl/i8iNSjm99vsTlR6Qc3/p8icuPSDm+9fkSlx+Rcnzr8yUuPyLl+Nbn\nS1x+RMrxrc+XuPyIlONbny9x+REpx7c+X+LyI1KOb32+xOVHpBzf+nyJy49IOb71+RKXH5Fy\nfOvzJS4/IuX41udLXH5EyvGtz5e4/IiU41ufL3H5ESnHtz5f4vIjUo5vfb7E5UekHN/6fInL\nj0g5vvX5EpcfkXJ86/MlLj8i5fjW50tcfkTK8a3Pl7j8iJTjW58vcfkRKce3Pl/i8iNSjm99\nvsTlR6Qc3/p8icuPSDm+9fkSlx+Rcnzr8yUuPyLl+GbnPzy8/3A+FF+iE+Ix1xKRPI//Kub+\n/Imq17XAYL+INOeYHL9E9bqINFFaEWmdxy9UvS4iTRRYRFrn8QtVr4tIEwUWkdZw/C79iy2J\nSAiPueERSfP4h6/8L7YkIiE85oZHJM3jHx4iUkRafO79+F0Pdp/TPTwcirRg9XqOnBeD/SLS\nnHPXxx/24FOk5Tp2gUakaSYiLXz8YQ8W/BwuIh1NRLr74w97EJHmwGNSiEh3f/xhDyLSHHhM\nChHp7o8/7EFEmgOPSSEirff4kREuU6axuItIY94dPSOYdTa58fEjI1ymTGNxF5HGvDt6RjDr\nbHLj4/f1uTJLlWks7iLSmHdHzwhmnU1ufPy+PldmqTKNxV1EGvPu6BnBrLPJDY8/SPb6712q\nTGNxF5HGxj76GcGsr8mNjz8VqSfN5co0FncRiYU/4hnBrK/JLY8/TvYTXfydy5VpLO4iEs5/\n6BnBrKzJjY8/TvYTXfydy5VpLO4iEs5/6BnBrKzJTY8/TfYTXvydy5VpLO4iUqEB158RzKqa\n3Pj402Q/4fnbu4jE94tIc07j44+zOk32E56/vYtIfL+INOdEpMlwF5FuK8OFZwQTkY4eHSW7\ng92HTzO35kbcRaTB992+zuHPb788edxFpMI8jBNpmdbciLuINPSu288ftrsH3btAB4+PnxFM\nRDp6tEg95sFdRBp613ORtl1EmmIeItJtGOy3ApHe51CkbReRJpmvlux+vUg95sFdRBqV+VWR\n/nuflwyc98gOf/3x+GKya8cvLTDYr4LHZAhFOhRn/+u82HDbvEd2+OuPxxeTXTvu8hFpzLsf\niLQ9eXz+jGAi0lmSq1EjIo3JkIl09DrDx0Sk2+dikqtRIyKNyRCJtN3/uN2TiHTL7CKMSHUM\n9qvh4RzRF2QPfopIE01EmgCD/VYg0tencvnOhiknIk2AwX4rEGnkRCQ0K3IgIvXi4RwjUuPj\nV+RAROrFwzlGpMbHr8iBiNSLh3OMSI2PX5EDEakXD+cYkRofvyIHIlIvHs4xIjU+fkUORKRe\nPJxjRGp5/FI9WBB3EWmickSkcbNkDxbEXUSaqCARadws2YMFcReRJipIRBo3S/ZgQdxFpIkK\nEpHGzLI9WBB3EWmiikSkMbNsDxbEXUSaqCIRacws24MFcReRJqpIRBozy/ZgQdxFpIkqEpHG\nzLI9WBB3EWmiikSkMbNsDxbEXUSaqCKGIo250We/ZckeLIi7iITLMPSMYCJSi3rMgbuIhMsw\n9IxgIlKLesyBu4iEyzD0jGCcRDotxGociEi9eDjViDTB8RHpkEakaSYijXnvZXuwIO4iEinD\nqGcE4yXS4j1YEF+4wPkx2C8izTlLiXQxsNU4EJF68XC0EWmC43cRD73T7IG3x11EuqFJl58R\nTERSwV1EuqFJl58RzL2LdBR23zutpuwRieLhDkSkCY4/CbvvnVZT9ohE8XAHItLNx5+F3fdu\nqyl7RKJ4uAUR6ebjz8Lue5/VlD0iUTzcgoh08/FnYfe9z2rKHpEoHm5BRLr5+LOw+95nNWWP\nSBQPtyAi3Xz8Wdh977OaskckiodbEJFuPv4s7L73WE3ZIxLFwy2ISDcffxZ233uspuwRieLh\nFkSkm48/C/voTQfvsZqyRySKh1sQkW4+/izsozcdvH01ZY9IFA+3ICLdfPxZ2P1vmj3w9vjs\nqpfAYL+INOdEpMnw2VUvgcF+EWnOiUiT4bOrXgKD/SLSnDOHSE0Cb48vXnlEKkxEuoQXCrw9\nvnjlEakwEekSXijw9vjilUekwkSkS3ihwNvji1cekQoTkc7YcoG3xz0XPy8G+0WkOWdSkVbU\n6og0ER5uQUS6+fgmya4WX7whEakwXiLNHuG94Z57Mi8G+0WkOSciTYZ77sm8GOwXkeaciDQZ\n7rkn82KwX0SacyLSZLjnnsyLwX4Rac6pHP9xd2eP8N5wzz2ZF4P9ItKcE5Emwz33ZF4M9otI\nc05NpBXVdz24i0iFMl1/RjD3JtJyEd4b7iISLdPgM4KJSCq4i0i0TIPPCOa+RFoywnvDXURi\nZRrxjGAikgruIhIr04hnBHM3Ih3f8tXUdz24i0iwfMPPCCYiqeAuIsHyDT8jmHsSadkI7w2f\n3aMlMNgvIs05EWkyfHaPlsBgv4g050SkyfDZPVoCg/0i0pwTkSbDZ/doCQz2i0hzzsDxuxvZ\nIMJ7wxfu0vwY7BeR5pyINBm+cJfmx2C/iDTnRKTJ8IW7ND8G+0WkOWecSE0ivDd88T5FpMLI\nidQ2wnvDvXcqIsGJSNa4905FJDgRyRr33qmIBCciWePeOxWR4NyzSBfvWNsI7w333qmIBEdL\npOYR3hvuvVMRCY6OSAd3t4tII3HvnYpIcNYsUt8defl8a0S6GffeqYgER0mkFUR4b7j3TkUk\nOOsW6fI9iUiT4d47FZHgrFSk3U25+Lavd4lIt+LeOxWR4NyPSEf+7LM6/C3tI7w33HunIhKc\n9Yr0cHJPLmXTHdi2igjvDffeqYgE575E6s2qi0glPHRfZ8Fgv4h0wxzdpkMMsopI4/BE93Vl\nKQx3LCKNzCoijcMT3deVpTDcsYg0MquINA5PdF9XlsJwx2YQ6WV1c3Rr3h+f48O3Anzx7jvj\nie7rylIY7pjJR6TT6cEr/P/Ce8MT3deVpTDcMVOR7ifCe8Pz3u6INDC3ifRxvdfeDkJZWYT3\nhue93RFpYG4V6fRiTx+BUFYW4b3heW93RBoYKtIlUY4fn799ZCgri/De8Ly3OyINDBDp4fwT\nuYPbvHu8e1N33xHeG573dkekgZlMpPObcIZ73ruGr919Szzv7Y5IA8NF2l1m1yvSEvja3bfE\nmikM1/L+RRq+zXcd4b1hzRSGa7lakXb7j77oy+977xHeG9ZMgdR+DSLtNq5cdCcZ4b1hzRRI\n7dch0g0XfeH3z4/Bfh5YMwVS+4hUwWA/D6yZAql9RKpgsJ8H1kyB1D4iVTDYzwNrpkBqH5Eq\nGOzngTVTILWPSBUM9vPAmimQ2kekCgb7eWDNFEjtI1IFg/08sGYKpPYRqYLBfh5YMwVS+4hU\nwWA/D6yZAql9RKpgsJ8H1kyB1D4iVTDYzwNrpkBq306k10UjkgrWTIHUPiJVMNjPA2umQGof\nkSoY7OeBNVMgtY9IFQz288CaKZDaR6QKBvt5YM0USO0jUgWD/TywZgqk9hGpgsF+HlgzBVL7\niFTBYD8PrJkCqX1EqmCwnwfWTIHUPiJVMNjPA2umQGofkSoY7OeBNVMgtY9IFQz288CaKZDa\nR6QKBvt5YM0USO0jUgWD/TywZgqk9hGpgsF+HlgzBVL7iFTBYD8PrJkCqX1EqmCwnwfWTIHU\nPiJVMNjPA2umQGofkSoY7OeBNVMgtY9IFQz288CaKZDaR6QKBvt5YM0USO0jUgWD/TywZgqk\n9hGpgsF+HlgzBVL7iFTBYD8PrJkCqX1EqmCwnwfWTIHUPiJVMNjPA2umQGofkSoY7OeBNVMg\ntY9IFQz288CaKZDaLyrS0WoPbyJdvE2J8O6wZgqk9hGpgsF+HlgzBVL7iFTBYD8PrJkCqX1E\nqmCwnwfWTIHUPiJVMNjPA2umQGofkSoY7OeBNVMgtY9IFQz288CaKZDaR6QKBvt5YM0USO0j\nUgWD/TywZgqk9hGpgsF+HlgzBVL7iFTBYD8PrJkCqX1EqmCwnwfWTIHUPiJVMNjPA2umQGof\nkSoY7OeBNVMgtY9IFQz288CaKZDaR6QKBvt5YM0USO0jUgWD/TywZgqk9hGpgsF+HlgzBVL7\niFTBYD8PrJkCqX1EqmCwnwfWTIHUPiJVMNjPA2umQGofkSoY7OeBNVMgtY9IFQz288CaKZDa\nR6QKBvt5YM0USO0jUgWD/TywZgqk9hGpgsF+HlgzBVL75iLdetGdZIT3hjVTILWPSBUM9vPA\nmimQ2kekCgb7eWDNFEjtI1IFg/08sGYKpPYRqYLBfh5YMwVS+4hUwWA/D6yZAql9RKpgsJ8H\n1kyB1D4iVTDYzwNrpkBqH5EqGOzngTVTILWPSBUM9vPAmimQ2o8Xafs6Xz9vDx6fPuOViUiq\nWDOF4UYXRNp+/bA9eXz6jFcmIqlizRSGGx2RbsNgPw+smcJwo6t/Rtru3dkevyUiWWPNFIYb\nfYtIX39E6r7+jPTf+7yMmFd1Dh88vP9wPgi/tMBgPw+smcJwo4si7T6zexeqy6d2wTuqmMJw\no28Q6esX+TNS8CFVTGG40TWRtoe/ikjBh1QxheFGl0Ta7n+MSMEnVDGF4UaXviC7/+nwz0pn\nz3hlIpIq1kxhuNGVryOdfkdDvrMh+IAqpjDc6Hyv3W0Y7OeBNVMgtY9IFQz288CaKZDaR6QK\nBvt5YM0USO0jUgWD/TywZgqk9hGpgsF+HlgzBVL7iFTBYD8PrJkCqX1EqmCwnwfWTIHUPiJV\nMNjPA2umQGofkSoY7OeBNVMgtY9IFQz288CaKZDaR6QKBvt5YM0USO0jUgWD/TywZgqk9hGp\ngsF+HlgzBVL7iFTBYD8PrJkCqX1EqmCwnwfWTIHUfmGRDpZ7iEg6WDMFUvuIVMFgPw+smQKp\nfUSqYLCfB9ZMgdQ+IlUw2M8Da6ZAah+RKhjs54E1UyC1j0gVDPbzwJopkNpHpAoG+3lgzRRI\n7SNSBYP9PLBmCqT2EamCwX4eWDMFUvuIVMFgPw+smQKpfUSqYLCfB9ZMgdQ+IlUw2M8Da6ZA\nah+RKhjs54E1UyC1j0gVDPbzwJopkNpHpAoG+3lgzRRI7SNSBYP9PLBmCqT2EamCwX4eWDMF\nUvuIVMFgPw+smQKpfUSqYLCfB9ZMgdQ+IlUw2M8Da6ZAah+RKhjs54E1UyC1j0gVDPbzwJop\nkNpHpAoG+3lgzRRI7SNSBYP9PLBmCqT2EamCwX4eWDMFUvuIVMFgPw+smQKpfUSqYLCfB9ZM\ngdQ+IlUw2M8Da6ZAah+RKhjs54E1UyC1j0gVDPbzwJopkNpHpAoG+3lgzRRI7SNSBYP9PLBm\nCqT2EamCwX4eWDMFUvuIVMFgPw+smQKpfUSqYLCfB9ZMgdQ+IlUw2M8Da6ZAah+RKhjs54E1\nUyC1j0gVDPbzwJopkNpHpAoG+3lgzRRI7SNSBYP9PLBmCqT2EamCwX4eWDMFUvuIVMFgPw+s\nmQKpfUSqYLCfB9ZMgdQ+IlUw2M8Da6ZAah+RKhjs54E1UyC1j0gVDPbzwJopkNpHpAoG+3lg\nzRRI7SNSBYP9PLBmCqT2EamCwX4eWDMFUvuIVMFgPw+smQKpfUSqYLCfB9ZMgdQ+IlUw2M8D\na6ZAah+RKhjs54E1UyC1j0gVDPbzwJopkNpHpAoG+3lgzRRI7SNSBYP9PLBmCqT2EamCwX4e\nWDMFUvuIVMFgPw+smQKpfUSqYLCfB9ZMgdQ+IlUw2M8Da6ZAah+RKhjs54E1UyC1j0gVDPbz\nwJopkNpHpAoG+3lgzRRI7SNSBYP9PLBmCqT2EamCwX4eWDMFUvuIVMFgPw+smQKpfUSqYLCf\nB9ZMgdQ+IlUw2M8Da6ZAah+RKhjs54E1UyC1j0gVDPbzwJopkNpPJtLLiHlb7vDBBzkbhF9a\nYLCfB9ZMYbjR+Yh0Gwb7eWDNFEjtI1IFg/08sGYKpPYRqYLBfh5YMwVS+xORHn/8HmPEtWe8\nMkfLPUQkHayZAqn9iUibzWb7/dcYKXqf8cocLfcQkXSwZgqk9ici/fv57dWlzdPPv2PEuPiM\nV+ZouYeIpIM1UyC1v/BnpF/P21eXHtnHpYhkjTVTILW/9GLD3+fN+4elMW6cP+OVOVruISLp\nYM0USO3PRfrz7f3D0e+nzbcxcpw945U5Wu4hIulgzRRI7U9F+vW0+6xuQ14aj0jWWDMFUvvT\nl783m29/vt60HSPH2TNemaPlHiKSDtZMgdT+9OXv5z9daSKSNdZMgdT+9OXvMT5cf8Yrc7Tc\nQ0TSwZopkNqf/jno2zvYPObrSNcw2M8Da6ZAan8i0vPHKwybzfcxYlx8xitztNxDRNLBmimQ\n2p+ItN28f6/dH/SK3fEzXpmj5R4ikg7WTIHU/ux77Y5/Hj0RyRprpkBqfyLMt833f13375l9\nW0MXkcyxZgqk9ici/d2+f3fQZktfBY9I1lgzBVL700/h/j0/bjaPz/RFu4jkjTVTILXPfyFb\nwWA/D6yZAql9RKpgsJ8H1kyB1P5UpOfPPyTlVbtrGOzngTVTILU//4JsRBrGYD8PrJkCqf3Z\nF2T/N8aIa894ZY6We4hIOlgzBVL7ni/I4olI1lgzBVL7sy/IFr//OyJZY80USO3PviD7hL+E\ndPKMV+ZouYeIpIM1UyC1P/977fJiwzAG+3lgzRRI7SNSBYP9PLBmCqT2+YJsBYP9PLBmCqT2\nEamCwX4eWDMFUvszkf737fXTuif8V6BEJGusmQKp/elffvL4/uejzYb+oxQRyRprpkBqfyLS\n983z2xdlf+Y/7LuKwX4eWDMFUvsL39nw9T80Eckaa6ZAah+RKhjs54E1UyC1v/yp3XP+Oq6r\nGOzngTVTILU/fbHh6+9syF8QeQ2D/TywZgqk9mefwv14/zsb8LeuRiRrrJkCqX2+IFvBYD8P\nrJkCqX1EqmCwnwfWTIHUPt+0WsFgPw+smQKpfUSqYLCfB9ZMgdT+ojB/n36M8eLyM16Zo+Ue\nIpIO1kyB1P7yR55/G2pSRLLGmimQ2vd8CpdP7a5isJ8H1kyB1P6yMD/RP8R8/IxX5mi5h4ik\ngzVTILXve7HheYwYF5/xyhwt9xCRdLBmCqT2l0XaUo8ikjfWTIHUPl+QrWCwnwfWTIHUfjmR\n9rdl9zgiqWDNFEjte78gC78oG5GssWYKpPYRqYLBfh5YMwVS+7N/H+ntLxD6+4T/4uKIZI01\nUyC17/lL9Gf4y0/2t2X3OCKpYM0USO0v/7Mu/2b4zob9bdk9jkgqWDMFUvsTYZ42b5/U/X3a\nfBt+kp5n7Jv9bdk9jkgqWDMFUvsTkf7M93c27G/L7nFEUsGaKZDan34K9+/57e9swP8VRUTy\nxpopkNrnC7IVDPbzwJopkNpHpAoG+3lgzRRI7Zf71yj2t2X3OCKpYM0USO2X+9co9rdl9zgi\nqWDNFEjtl/vXKPa3Zfc4IqlgzRRI7Zf7S/T3t2X3OCKpYM0USO0jUgWD/TywZgqk9sv9axT7\n27J7HJFUsGYKpPbL/WsU+9uyexyRVLBmCqT2y/1rFPvbsnsckVSwZgqk9vmCbAWD/TywZgqk\n9qff/U3/bHT+jH2zvy27xxFJBWumQGp/ItK2+hEqIlljzRRI7U//M4qnZ/oyw+kz9s3+tuwe\nRyQVrJkCqf1y/6zL/rbsHkckFayZAql9RKpgsJ8H1kyB1D6v2lUw2M8Da6ZAah+RKhjs54E1\nUyC1PxQJfz538Rn7Zn9bdo8jkgrWTIHU/kykok0RyRprpkBqH5EqGOzngTVTILWPSBUM9vPA\nmimQ2kekCgb7eWDNFEjtI1IFg/08sGYKpPYRqYLBfh5YMwVS+2ORav820vEz9s3+tuweRyQV\nrJkCqX1EqmCwnwfWTIHUnn8it32dw59Pn7Fv9rdl9zgiqWDNFIZluEGk7ecP292Dk2fsm/1t\n2T2OSCpYM4VhGyLSbRjs54E1Uxi24dZvWt2e/ByRzLFmCsMiTCrSf+/zMjSfOx4+3sHjQfil\nBQb7eWDNFAY7/XKTSPsXGfJiQ/AXVUxh2IWJPiJFpOAvqpjCsAjTiHTgUUTyxpopDIswwat2\nxx5FJG+smcKwDVOIdORRRPLGmikM2zDBdzZst0ff2hCRrLFmCsMy5C8/uQ2D/TywZgqk9hGp\ngsF+HlgzBVL7iFTBYD8PrJkCqX1EqmCwnwfWTIHUPiJVMNjPA2umQGofkSoY7OeBNVMgtY9I\nFQz288CaKZDaR6QKBvt5YM0USO0jUgWD/TywZgqk9hGpgsF+HlgzBVL7iFTBYD8PrJkCqX1E\nqmCwnwfWTIHUPiJVMNjPA2umQGofkSoY7OeBNVMgtY9IFQz288CaKZDaR6QKBvt5YM0USO0j\nUgWD/TywZgqk9hGpgsF+HlgzBVL7iFTBYD8PrJkCqX1EqmCwnwfWTIHUPiJVMNjPA2umQGof\nkSoY7OeBNVMgtY9IFQz288CaKZDaR6QKBvt5YM0USO0jUgWD/TywZgqk9hGpgsF+HlgzBVL7\niFTBYD8PrJkCqX1EqmCwnwfWTIHUPiJVMNjPA2umQGofkSoY7OeBNVMgtY9IFQz288CaKZDa\nR6QKBvt5YM0USO0jUgWD/TywZgqk9hGpgsF+HlgzBVL7iFTBYD8PrJkCqX1EqmCwnwfWTIHU\nPiJVMNjPA2umQGofkSoY7OeBNVMgtY9IFQz288CaKZDaR6QKBvt5YM0USO0jUgWD/TywZgqk\n9hGpgsF+HlgzBVL7iFTBYD8PrJkCqX1EqmCwnwfWTIHUPiJVMNjPA2umQGofkSoY7OeBNVMg\ntY9IFQz288CaKZDaR6QKBvt5YM0USO0jUgWD/TywZgqk9hGpgsF+HlgzBVL7iFTBYD8PrJkC\nqX1EqmCwnwfWTIHUPiJVMNjPA2umQGofkSoY7OeBNVMgtY9IFQz288CaKZDaR6QKBvt5YM0U\nSO0jUgWD/TywZgqk9hGpgsF+HlgzBVL7iFTBYD8PrJkCqX1EqmCwnwfWTIHUPiJVMNjPA2um\nQGofkSoY7OeBNVMgtY9IFQz288CaKZDaR6QKBvt5YM0USO0jUgWD/TywZgqk9hGpgsF+Hlgz\nBVL7iFTBYD8PrJkCqX1EqmCwnwfWTIHUPiJVMNjPA2umQGofkSoY7OeBNVMgtY9IFQz288Ca\nKZDaR6QKBvt5YM0USO0jUgWD/TywZgqk9hGpgsF+HlgzBVL7iFTBYD8PrJkCqX1EqmCwnwfW\nTIHUPiJVMNjPA2umQGofkSoY7OeBNVMgtY9IFQz288CaKZDaR6QKBvt5YM0USO0jUgWD/Tyw\nZgqk9hGpgsF+HlgzBVL7iFTBYD8PrJkCqX1EqmCwnwfWTIHUPiJVMNjPA2umQGo/mUgvQ/O5\n4+HjHTwehF9aYLCfB9ZMYbDTL/mIdBsG+3lgzRRI7SNSBYP9PLBmCqT2EamCwX4eWDMFUvuI\nVMFgPw+smQKpfUSqYLCfB9ZMgdQ+IlUw2M8Da6ZAah+RKhjs54E1UyC1j0gVDPbzwJopkNpH\npAoG+3lgzRRI7SNSBYP9PLBmCqT2EamCwX4eWDMFUvuIVMFgPw+smQKpfUSqYLCfB9ZMgdQ+\nIlUw2M8Da6ZAah+RKhjs54E1UyC1j0gVDPbzwJopkNpHpAoG+3lgzRRI7SNSBYP9PLBmCqT2\nEamCwX4eWDMFUvuIVMFgPw+smQKpfUSqYLCfB9ZMgdQ+IlUw2M8Da6ZAah+RKhjs54E1UyC1\nj0gVDPbzwJopkNpHpAoG+3lgzRRI7SNSBYP9PLBmCqT2EamCwX4eWDMFUvuIVMFgPw+smQKp\nfUSqYLCfB9ZMgdQ+IlUw2M8Da6ZAah+RKhjs54E1UyC1j0gVDPbzwJopkNpHpAoG+3lgzRRI\n7SNSBYP9PLBmCqT2EamCwX4eWDMFUvuIVMFgPw+smQKpfUSqYLCfB9ZMgdQ+IlUw2M8Da6ZA\nah+RKhjs54E1UyC1j0gVDPbzwJopkNpHpAoG+3lgzRRI7SNSBYP9PLBmCqT2EamCwX4eWDMF\nUvuIVMFgPw+smQKpfUSqYLCfB9ZMgdQ+IlUw2M8Da6ZAah+RKhjs54E1UyC1j0gVDPbzwJop\nkNpHpAoG+3lgzRRI7SNSBYP9PLBmCqT2EamCwX4eWDMFUvuIVMFgPw+smQKpfUSqYLCfB9ZM\ngdQ+IlUw2M8Da6ZAah+RKhjs54E1UyC1j0gVDPbzwJopkNpHpAoG+3lgzRRI7SNSBYP9PLBm\nCqT2EamCwX4eWDMFUvuIVMFgPw+smQKpfUSqYLCfB9ZMgdQ+IlUw2M8Da6ZAah+RKhjs54E1\nUyC1j0gVDPbzwJopkNpHpAoG+3lgzRRI7SNSBYP9PLBmCqT2EamCwX4eWDMFUvuIVMFgPw+s\nmQKpfUSqYLCfB9ZMgdQ+IlUw2M8Da6ZAah+RKhjs54E1UyC1j0gVDPbzwJopkNpHpAoG+3lg\nzRRI7SNSBYP9PLBmCqT2EamCwX4eWDMFUvuIVMFgPw+smQKpfUSqYLCfB9ZMgdQ+IlUw2M8D\na6ZAah+RKhjs54E1UyC1j0gVDPbzwJopkNpHpAoG+3lgzRRI7SNSBYP9PLBmCqT2EamCwX4e\nWDMFUvuIVMFgPw+smQKpfUSqYLCfB9ZMgdQ+IlUw2M8Da6ZAah+RKhjs54E1UyC1v0mk7aVn\n7Jv9bdk9jkgqWDOFYQOmEWkbkYK/qGIKwwpMItI2H5GCd1QxhWEHphBpm0/tgvdUMYVhCSYV\n6b/3eRmazzMY4o4AAAlHSURBVB0PH+/g8SD80gKD/TywZgqDnX6ZQKRtl49IwXuqmMKwBbeL\ntN39cPqMfbO/LbvHEUkFa6YwrMEEIn3MhWfsm/1t2T2OSCpYM4VhDfJ1pNsw2M8Da6YwbEBE\nug2D/TywZgrDBkSk2zDYzwNrpjBsQL7X7jYM9vPAmimQ2kekCgb7eWDNFEjtI1IFg/08sGYK\npPYRqYLBfh5YMwVS+4hUwWA/D6yZAql9RKpgsJ8H1kyB1D4iVTDYzwNrpkBqH5EqGOzngTVT\nILWPSBUM9vPAmimQ2kekCgb7eWDNFEjtI1IFg/08sGYKpPYRqYLBfh5YMwVS+4hUwWA/D6yZ\nAql9RKpgsJ8H1kyB1D4iVTDYzwNrpkBqH5EqGOzngTVTILWPSBUM9vPAmimQ2kekCgb7eWDN\nFEjtI1IFg/08sGYKpPYRqYLBfh5YMwVS+4hUwWA/D6yZAql9RKpgsJ8H1kyB1D4iVTDYzwNr\npkBqH5EqGOzngTVTILWPSBUM9vPAmimQ2kekCgb7eWDNFEjtI1IFg/08sGYKpPYRqYLBfh5Y\nMwVS+4hUwWA/D6yZAql9RKpgsJ8H1kyB1D4iVTDYzwNrpkBqH5EqGOzngTVTILWPSBUM9vPA\nmimQ2kekCgb7eWDNFEjtI1IFg/08sGYKpPYRqYLBfh5YMwVS+4hUwWA/D6yZAql9RKpgsJ8H\n1kyB1D4iVTDYzwNrpkBqH5EqGOzngTVTILWPSBUM9vPAmimQ2kekCgb7eWDNFEjtI1IFg/08\nsGYKpPYRqYLBfh5YMwVS+4hUwWA/D6yZAql9RKpgsJ8H1kyB1D4iVTDYzwNrpkBqH5EqGOzn\ngTVTILWPSBUM9vPAmimQ2kekCgb7eWDNFEjtI1IFg/08sGYKpPYRqYLBfh5YMwVS+4hUwWA/\nD6yZAql9RKpgsJ8H1kyB1D4iVTDYzwNrpkBqH5EqGOzngTVTILWPSBUM9vPAmimQ2kekCgb7\neWDNFEjtI1IFg/08sGYKpPYRqYLBfh5YMwVS+4hUwWA/D6yZAql9RKpgsJ8H1kyB1D4iVTDY\nzwNrpkBqH5EqGOzngTVTILWPSBUM9vPAmimQ2kekCgb7eWDNFEjtI1IFg/08sGYKpPYRqYLB\nfh5YMwVS+4hUwWA/D6yZAql9RKpgsJ8H1kyB1D4iVTDYzwNrpkBqH5EqGOzngTVTILWPSBUM\n9vPAmimQ2kekCgb7eWDNFEjtI1IFg/08sGYKpPYRqYLBfh5YMwVS+4hUwWA/D6yZAql9RKpg\nsJ8H1kyB1D4iVTDYzwNrpkBqH5EqGOzngTVTILWPSBUM9vPAmimQ2kekCgb7eWDNFEjtI1IF\ng/08sGYKpPYRqYLBfh5YMwVS+4hUwWA/D6yZAqn9ZCK9DM3njoePd/B4EH5pgcF+HlgzhcFO\nv+Qj0m0Y7OeBNVMgtY9IFQz288CaKZDaR6QKBvt5YM0USO0jUgWD/TywZgqk9hGpgsF+Hlgz\nBVL7iFTBYD8PrJkCqX1EqmCwnwfWTIHUPiJVMNjPA2umQGofkSoY7OeBNVMgtY9IFQz288Ca\nKZDaR6QKBvt5YM0USO0jUgWD/TywZgqk9hGpgsF+HlgzBVL7iFTBYD8PrJkCqX1EqmCwnwfW\nTIHUPiJVMNjPA2umQGofkSoY7OeBNVMgtY9IFQz288CaKZDaR6QKBvt5YM0USO0jUgWD/Tyw\nZgqk9hGpgsF+HlgzBVL7iFTBYD8PrJkCqX1EqmCwnwfWTIHUPiJVMNjPA2umQGofkSoY7OeB\nNVMgtY9IFQz288CaKZDaR6QKBvt5YM0USO0jUgWD/TywZgqk9hGpgsF+HlgzBVL7iFTBYD8P\nrJkCqf1yIl2Yl4kOL4738a3Pl7j8iJTjW58vcfkRKce3Pl/i8iNSjm99vsTlR6Qc3/p8icuP\nSDm+9fkSlx+Rcnzr8yUuPyLl+NbnS1x+RMrxrc+XuPyIlONbny9x+REpx7c+X+LyI1KOb32+\nxOVHpBzf+nyJy49IOb71+RKXH5FyfOvzJS4/IuX41udLXH5EyvGtz5e4/IiU41ufL3H5ESnH\ntz5f4vIjUo5vfb7E5UekHN/6fInLj0g5vvX5EpcfkXJ86/MlLj8i5fjW50tcfkTK8a3Pl7j8\niJTjW58vcfkRKce3Pl/i8iNSjm99vsTlR6Qc3/p8icuPSDm+9fkSlx+Rcnzr8yUuPyLl+Nbn\nS1x+RMrxrc+XuPyIlONbny9x+REpx7c+X+LyZxApkzGcyUW6xyl9FNWZXP6UE5FsJ5c/5UQk\n28nlTznOImUyk01EymQmmIiUyUwwESmTmWAiUiYzwUSkTGaCcRNp+/Hj61z6WX6sL7/vsie5\nfDORPu/c5w+nP8uP9eX3XfY0l+8l0rZzbpL55UekKce5SZ395Uekyca8SeaXH5Emm6M/bfs1\naXelW0+RLqUekSpj/n/Ju/8f8bz8iDTZRKT9r0wvPyJNMRHJ+PK3+x8j0o3j3STvy98e/BSR\nbpyjFxvcvrTvffnb7ddrTPnOhkxmpRORMpkJJiJlMhNMRMpkJpiIlMlMMBEpk5lgIlImM8FE\npExmgolImcwEE5EymQkmImUyE0xEymQmmIh0R/Nv87j76d/3zeb7v7eHv79tNtvn119sNn+2\nT133Y7t5/F/TPR0nIt3TPG9+vf74c/Oj67ab13nz6tfmfZ7fRHrafH99n7eJSQtPRLqn+bN5\n/YjTfdv87n68mfP85svj5ufbGzZvIn18XPrb/d4Y/GcR65qIdFfzbfPnNbPtmz5vDzff3n78\n++vH04dIf7u3D1XffzXd0XMi0l3Nn1d1fr1+/tZtPueVPX396v1R9+v1k77Hv4339JuIdF/z\nuPn7/gelvUjfN4//+/V3L9KrbY+b7e+2a/pNRLqv+bV53r5l9rgL7l2ff4cidd3/Nsl14ckN\nv7N53Ly/4PD89sLCz7dfbja/u39Pe5G2r4//5MWGpSci3dn82ry9Stf9e3/5++2lh+fN8Z+R\nPh7/aLym3USke5uP1+a6v99fPzS9/0no/RcHn9q9fu63jUdLT0S6s/n98d0NmZVNRLqzedrk\nq0RrnIh0V7P5eKkhs7qJSHc124/vZcisbiJSJjPBRKRMZoKJSJnMBBORMpkJJiJlMhNMRMpk\nJpiIlMlMMBEpk5lg/g/HxljEp0SvvQAAAABJRU5ErkJggg==",
      "text/plain": [
       "plot without title"
      ]
     },
     "metadata": {
      "image/png": {
       "height": 420,
       "width": 420
      },
      "text/plain": {
       "height": 420,
       "width": 420
      }
     },
     "output_type": "display_data"
    }
   ],
   "source": [
    "g <- ggplot(mydata, aes(x=year)) + geom_histogram(binwidth=.9) + scale_y_continuous(trans='log2')\n",
    "g <- g + theme_light() + labs(x=\"years\", y=\"Frequency\", face=\"bold\")\n",
    "g"
   ]
  },
  {
   "cell_type": "markdown",
   "metadata": {},
   "source": [
    "***\n",
    "\n",
    "#### Create histogram for “Countries” "
   ]
  },
  {
   "cell_type": "code",
   "execution_count": 27,
   "metadata": {},
   "outputs": [
    {
     "data": {
      "image/png": "iVBORw0KGgoAAAANSUhEUgAAA0gAAANICAMAAADKOT/pAAAAM1BMVEUAAABNTU1oaGh8fHyM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\nVZYAAAAASUVORK5CYII=",
      "text/plain": [
       "plot without title"
      ]
     },
     "metadata": {
      "image/png": {
       "height": 420,
       "width": 420
      },
      "text/plain": {
       "height": 420,
       "width": 420
      }
     },
     "output_type": "display_data"
    }
   ],
   "source": [
    "barplot(table(mydata$era))"
   ]
  },
  {
   "cell_type": "markdown",
   "metadata": {},
   "source": [
    "***\n",
    "\n",
    "### More visualization functions with “ggplot2”"
   ]
  },
  {
   "cell_type": "markdown",
   "metadata": {},
   "source": [
    "Try to run this command:\n",
    "\n",
    "```\n",
    "ggplot(data=mydata, aes(x=year, y=AverageTemperature)) + geom_line()\n",
    "```"
   ]
  },
  {
   "cell_type": "code",
   "execution_count": 28,
   "metadata": {},
   "outputs": [
    {
     "data": {
      "image/png": "iVBORw0KGgoAAAANSUhEUgAAA0gAAANICAMAAADKOT/pAAAANlBMVEUAAAAzMzNNTU1oaGh8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\nAABJRU5ErkJggg==",
      "text/plain": [
       "plot without title"
      ]
     },
     "metadata": {
      "image/png": {
       "height": 420,
       "width": 420
      },
      "text/plain": {
       "height": 420,
       "width": 420
      }
     },
     "output_type": "display_data"
    }
   ],
   "source": [
    "ggplot(data=mydata, aes(x=year, y=AverageTemperature)) + geom_line()"
   ]
  },
  {
   "cell_type": "markdown",
   "metadata": {},
   "source": [
    "<img src=\"figures/staring.jpg\">"
   ]
  },
  {
   "cell_type": "markdown",
   "metadata": {},
   "source": [
    "### Can we do better? \n",
    "\n",
    "What if we can create smaller data with the year and the average temperature of that year?"
   ]
  },
  {
   "cell_type": "code",
   "execution_count": 29,
   "metadata": {},
   "outputs": [],
   "source": [
    "grouped_data <- mydata  %>%\n",
    "    group_by(year) %>%\n",
    "    summarise(avg_temp = mean(AverageTemperature))"
   ]
  },
  {
   "cell_type": "code",
   "execution_count": 30,
   "metadata": {},
   "outputs": [
    {
     "data": {
      "text/html": [
       "<table>\n",
       "<caption>A tibble: 6 × 2</caption>\n",
       "<thead>\n",
       "\t<tr><th scope="col">year</th><th scope="col">avg_temp</th></tr>\n",
       "\t<tr><th scope="col">&lt;dbl&gt;</th><th scope="col">&lt;dbl&gt;</th></tr>\n",
       "</thead>\n",
       "<tbody>\n",
       "\t<tr><td>1743</td><td>5.184140</td></tr>\n",
       "\t<tr><td>1744</td><td>9.837898</td></tr>\n",
       "\t<tr><td>1745</td><td>1.387125</td></tr>\n",
       "\t<tr><td>1750</td><td>9.129353</td></tr>\n",
       "\t<tr><td>1751</td><td>9.167388</td></tr>\n",
       "\t<tr><td>1752</td><td>4.413387</td></tr>\n",
       "</tbody>\n",
       "</table>\n"
      ],
      "text/latex": [
       "A tibble: 6 × 2\n",
       "\\begin{tabular}{ll}\n",
       " year & avg\\_temp\\\\\n",
       " <dbl> & <dbl>\\\\\n",
       "\\hline\n",
       "\t 1743 & 5.184140\\\\\n",
       "\t 1744 & 9.837898\\\\\n",
       "\t 1745 & 1.387125\\\\\n",
       "\t 1750 & 9.129353\\\\\n",
       "\t 1751 & 9.167388\\\\\n",
       "\t 1752 & 4.413387\\\\\n",
       "\\end{tabular}\n"
      ],
      "text/markdown": [
       "\n",
       "A tibble: 6 × 2\n",
       "\n",
       "| year &lt;dbl&gt; | avg_temp &lt;dbl&gt; |\n",
       "|---|---|\n",
       "| 1743 | 5.184140 |\n",
       "| 1744 | 9.837898 |\n",
       "| 1745 | 1.387125 |\n",
       "| 1750 | 9.129353 |\n",
       "| 1751 | 9.167388 |\n",
       "| 1752 | 4.413387 |\n",
       "\n"
      ],
      "text/plain": [
       "  year avg_temp\n",
       "1 1743 5.184140\n",
       "2 1744 9.837898\n",
       "3 1745 1.387125\n",
       "4 1750 9.129353\n",
       "5 1751 9.167388\n",
       "6 1752 4.413387"
      ]
     },
     "metadata": {},
     "output_type": "display_data"
    }
   ],
   "source": [
    "head(grouped_data)"
   ]
  },
  {
   "cell_type": "code",
   "execution_count": 29,
   "metadata": {},
   "outputs": [
    {
     "data": {
      "image/png": "iVBORw0KGgoAAAANSUhEUgAAA0gAAANICAMAAADKOT/pAAADAFBMVEUAAAABAQECAgIDAwME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\nRDEEJKIYAhJRDP0v8CAF/G/MK0QAAAAASUVORK5CYII=",
      "text/plain": [
       "plot without title"
      ]
     },
     "metadata": {
      "image/png": {
       "height": 420,
       "width": 420
      },
      "text/plain": {
       "height": 420,
       "width": 420
      }
     },
     "output_type": "display_data"
    }
   ],
   "source": [
    "ggplot(data=grouped_data, aes(x=year, y=avg_temp)) +\n",
    "  geom_line()"
   ]
  },
  {
   "cell_type": "markdown",
   "metadata": {},
   "source": [
    "# Exercise\n",
    "\n",
    "## If we are on track, try to:\n",
    "\n",
    "\n",
    "### 1. load carbon dioxide data\n",
    "\n",
    "### 2. remove NA\n",
    "\n",
    "### 3. Change column \"CarbonDioxide\" to numeric\n",
    "\n",
    "### 4. Change column \"year\" to numeric\n",
    "\n",
    "### view the data using the head( )  and tail( ) commands\n",
    "\n",
    "\n",
    "<br><br><br><br>\n",
    "\n",
    "\n",
    "## Don't spoil the fun. The stick figure is watching you\n",
    "\n",
    "\n",
    "<br><br><br><br>\n",
    "\n",
    "\n",
    "<img src=\"figures/watch.png\" width=\"30%\">\n",
    "\n",
    "### Answer:"
   ]
  },
  {
   "cell_type": "code",
   "execution_count": 31,
   "metadata": {},
   "outputs": [],
   "source": [
    "carbon <- read.csv(\"CarbonDioxideEmission.csv\")"
   ]
  },
  {
   "cell_type": "code",
   "execution_count": 32,
   "metadata": {},
   "outputs": [
    {
     "data": {
      "text/html": [
       "<table>\n",
       "<caption>A data.frame: 6 × 7</caption>\n",
       "<thead>\n",
       "\t<tr><th></th><th scope="col">year</th><th scope="col">Month</th><th scope="col">DecimalDate</th><th scope="col">CarbonDioxide</th><th scope="col">SeasonallyAdjustedCO2</th><th scope="col">CarbonDioxideFit</th><th scope="col">SeasonallyAdjustedCO2Fit</th></tr>\n",
       "\t<tr><th></th><th scope="col">&lt;dbl&gt;</th><th scope="col">&lt;int&gt;</th><th scope="col">&lt;dbl&gt;</th><th scope="col">&lt;dbl&gt;</th><th scope="col">&lt;dbl&gt;</th><th scope="col">&lt;dbl&gt;</th><th scope="col">&lt;dbl&gt;</th></tr>\n",
       "</thead>\n",
       "<tbody>\n",
       "\t<tr><th scope="row">3</th><td>1958</td><td>3</td><td>1958.203</td><td>315.69</td><td>314.42</td><td>316.18</td><td>314.89</td></tr>\n",
       "\t<tr><th scope="row">4</th><td>1958</td><td>4</td><td>1958.288</td><td>317.45</td><td>315.15</td><td>317.30</td><td>314.98</td></tr>\n",
       "\t<tr><th scope="row">5</th><td>1958</td><td>5</td><td>1958.370</td><td>317.50</td><td>314.73</td><td>317.83</td><td>315.06</td></tr>\n",
       "\t<tr><th scope="row">7</th><td>1958</td><td>7</td><td>1958.537</td><td>315.86</td><td>315.17</td><td>315.87</td><td>315.21</td></tr>\n",
       "\t<tr><th scope="row">8</th><td>1958</td><td>8</td><td>1958.622</td><td>314.93</td><td>316.17</td><td>314.01</td><td>315.29</td></tr>\n",
       "\t<tr><th scope="row">9</th><td>1958</td><td>9</td><td>1958.707</td><td>313.21</td><td>316.06</td><td>312.48</td><td>315.35</td></tr>\n",
       "</tbody>\n",
       "</table>\n"
      ],
      "text/latex": [
       "A data.frame: 6 × 7\n",
       "\\begin{tabular}{r|lllllll}\n",
       "  & year & Month & DecimalDate & CarbonDioxide & SeasonallyAdjustedCO2 & CarbonDioxideFit & SeasonallyAdjustedCO2Fit\\\\\n",
       "  & <dbl> & <int> & <dbl> & <dbl> & <dbl> & <dbl> & <dbl>\\\\\n",
       "\\hline\n",
       "\t3 & 1958 & 3 & 1958.203 & 315.69 & 314.42 & 316.18 & 314.89\\\\\n",
       "\t4 & 1958 & 4 & 1958.288 & 317.45 & 315.15 & 317.30 & 314.98\\\\\n",
       "\t5 & 1958 & 5 & 1958.370 & 317.50 & 314.73 & 317.83 & 315.06\\\\\n",
       "\t7 & 1958 & 7 & 1958.537 & 315.86 & 315.17 & 315.87 & 315.21\\\\\n",
       "\t8 & 1958 & 8 & 1958.622 & 314.93 & 316.17 & 314.01 & 315.29\\\\\n",
       "\t9 & 1958 & 9 & 1958.707 & 313.21 & 316.06 & 312.48 & 315.35\\\\\n",
       "\\end{tabular}\n"
      ],
      "text/markdown": [
       "\n",
       "A data.frame: 6 × 7\n",
       "\n",
       "| <!--/--> | year &lt;dbl&gt; | Month &lt;int&gt; | DecimalDate &lt;dbl&gt; | CarbonDioxide &lt;dbl&gt; | SeasonallyAdjustedCO2 &lt;dbl&gt; | CarbonDioxideFit &lt;dbl&gt; | SeasonallyAdjustedCO2Fit &lt;dbl&gt; |\n",
       "|---|---|---|---|---|---|---|---|\n",
       "| 3 | 1958 | 3 | 1958.203 | 315.69 | 314.42 | 316.18 | 314.89 |\n",
       "| 4 | 1958 | 4 | 1958.288 | 317.45 | 315.15 | 317.30 | 314.98 |\n",
       "| 5 | 1958 | 5 | 1958.370 | 317.50 | 314.73 | 317.83 | 315.06 |\n",
       "| 7 | 1958 | 7 | 1958.537 | 315.86 | 315.17 | 315.87 | 315.21 |\n",
       "| 8 | 1958 | 8 | 1958.622 | 314.93 | 316.17 | 314.01 | 315.29 |\n",
       "| 9 | 1958 | 9 | 1958.707 | 313.21 | 316.06 | 312.48 | 315.35 |\n",
       "\n"
      ],
      "text/plain": [
       "  year Month DecimalDate CarbonDioxide SeasonallyAdjustedCO2 CarbonDioxideFit\n",
       "3 1958 3     1958.203    315.69        314.42                316.18          \n",
       "4 1958 4     1958.288    317.45        315.15                317.30          \n",
       "5 1958 5     1958.370    317.50        314.73                317.83          \n",
       "7 1958 7     1958.537    315.86        315.17                315.87          \n",
       "8 1958 8     1958.622    314.93        316.17                314.01          \n",
       "9 1958 9     1958.707    313.21        316.06                312.48          \n",
       "  SeasonallyAdjustedCO2Fit\n",
       "3 314.89                  \n",
       "4 314.98                  \n",
       "5 315.06                  \n",
       "7 315.21                  \n",
       "8 315.29                  \n",
       "9 315.35                  "
      ]
     },
     "metadata": {},
     "output_type": "display_data"
    },
    {
     "data": {
      "text/html": [
       "<table>\n",
       "<caption>A data.frame: 6 × 7</caption>\n",
       "<thead>\n",
       "\t<tr><th></th><th scope="col">year</th><th scope="col">Month</th><th scope="col">DecimalDate</th><th scope="col">CarbonDioxide</th><th scope="col">SeasonallyAdjustedCO2</th><th scope="col">CarbonDioxideFit</th><th scope="col">SeasonallyAdjustedCO2Fit</th></tr>\n",
       "\t<tr><th></th><th scope="col">&lt;dbl&gt;</th><th scope="col">&lt;int&gt;</th><th scope="col">&lt;dbl&gt;</th><th scope="col">&lt;dbl&gt;</th><th scope="col">&lt;dbl&gt;</th><th scope="col">&lt;dbl&gt;</th><th scope="col">&lt;dbl&gt;</th></tr>\n",
       "</thead>\n",
       "<tbody>\n",
       "\t<tr><th scope="row">704</th><td>2016</td><td> 8</td><td>2016.623</td><td>402.24</td><td>403.78</td><td>403.02</td><td>404.60</td></tr>\n",
       "\t<tr><th scope="row">705</th><td>2016</td><td> 9</td><td>2016.708</td><td>401.01</td><td>404.52</td><td>401.33</td><td>404.85</td></tr>\n",
       "\t<tr><th scope="row">706</th><td>2016</td><td>10</td><td>2016.790</td><td>401.50</td><td>405.12</td><td>401.48</td><td>405.09</td></tr>\n",
       "\t<tr><th scope="row">707</th><td>2016</td><td>11</td><td>2016.874</td><td>403.64</td><td>405.92</td><td>403.08</td><td>405.34</td></tr>\n",
       "\t<tr><th scope="row">708</th><td>2016</td><td>12</td><td>2016.956</td><td>404.55</td><td>405.49</td><td>404.66</td><td>405.58</td></tr>\n",
       "\t<tr><th scope="row">709</th><td>2017</td><td> 1</td><td>2017.041</td><td>406.07</td><td>406.04</td><td>405.87</td><td>405.83</td></tr>\n",
       "</tbody>\n",
       "</table>\n"
      ],
      "text/latex": [
       "A data.frame: 6 × 7\n",
       "\\begin{tabular}{r|lllllll}\n",
       "  & year & Month & DecimalDate & CarbonDioxide & SeasonallyAdjustedCO2 & CarbonDioxideFit & SeasonallyAdjustedCO2Fit\\\\\n",
       "  & <dbl> & <int> & <dbl> & <dbl> & <dbl> & <dbl> & <dbl>\\\\\n",
       "\\hline\n",
       "\t704 & 2016 &  8 & 2016.623 & 402.24 & 403.78 & 403.02 & 404.60\\\\\n",
       "\t705 & 2016 &  9 & 2016.708 & 401.01 & 404.52 & 401.33 & 404.85\\\\\n",
       "\t706 & 2016 & 10 & 2016.790 & 401.50 & 405.12 & 401.48 & 405.09\\\\\n",
       "\t707 & 2016 & 11 & 2016.874 & 403.64 & 405.92 & 403.08 & 405.34\\\\\n",
       "\t708 & 2016 & 12 & 2016.956 & 404.55 & 405.49 & 404.66 & 405.58\\\\\n",
       "\t709 & 2017 &  1 & 2017.041 & 406.07 & 406.04 & 405.87 & 405.83\\\\\n",
       "\\end{tabular}\n"
      ],
      "text/markdown": [
       "\n",
       "A data.frame: 6 × 7\n",
       "\n",
       "| <!--/--> | year &lt;dbl&gt; | Month &lt;int&gt; | DecimalDate &lt;dbl&gt; | CarbonDioxide &lt;dbl&gt; | SeasonallyAdjustedCO2 &lt;dbl&gt; | CarbonDioxideFit &lt;dbl&gt; | SeasonallyAdjustedCO2Fit &lt;dbl&gt; |\n",
       "|---|---|---|---|---|---|---|---|\n",
       "| 704 | 2016 |  8 | 2016.623 | 402.24 | 403.78 | 403.02 | 404.60 |\n",
       "| 705 | 2016 |  9 | 2016.708 | 401.01 | 404.52 | 401.33 | 404.85 |\n",
       "| 706 | 2016 | 10 | 2016.790 | 401.50 | 405.12 | 401.48 | 405.09 |\n",
       "| 707 | 2016 | 11 | 2016.874 | 403.64 | 405.92 | 403.08 | 405.34 |\n",
       "| 708 | 2016 | 12 | 2016.956 | 404.55 | 405.49 | 404.66 | 405.58 |\n",
       "| 709 | 2017 |  1 | 2017.041 | 406.07 | 406.04 | 405.87 | 405.83 |\n",
       "\n"
      ],
      "text/plain": [
       "    year Month DecimalDate CarbonDioxide SeasonallyAdjustedCO2 CarbonDioxideFit\n",
       "704 2016  8    2016.623    402.24        403.78                403.02          \n",
       "705 2016  9    2016.708    401.01        404.52                401.33          \n",
       "706 2016 10    2016.790    401.50        405.12                401.48          \n",
       "707 2016 11    2016.874    403.64        405.92                403.08          \n",
       "708 2016 12    2016.956    404.55        405.49                404.66          \n",
       "709 2017  1    2017.041    406.07        406.04                405.87          \n",
       "    SeasonallyAdjustedCO2Fit\n",
       "704 404.60                  \n",
       "705 404.85                  \n",
       "706 405.09                  \n",
       "707 405.34                  \n",
       "708 405.58                  \n",
       "709 405.83                  "
      ]
     },
     "metadata": {},
     "output_type": "display_data"
    }
   ],
   "source": [
    "carbon <- na.omit(carbon)\n",
    "\n",
    "carbon$CarbonDioxide <- as.numeric(carbon$CarbonDioxide)\n",
    "carbon$year <- as.numeric(carbon$year)\n",
    "\n",
    "head(carbon)\n",
    "tail(carbon)"
   ]
  },
  {
   "cell_type": "markdown",
   "metadata": {},
   "source": [
    "# Inference Statistics\n",
    "\n",
    "<img src=\"figures/learning_objectives.png\">"
   ]
  },
  {
   "cell_type": "markdown",
   "metadata": {},
   "source": [
    "## Some housekeeping and background\n",
    "\n",
    "### Copy & run the code below "
   ]
  },
  {
   "cell_type": "code",
   "execution_count": 33,
   "metadata": {},
   "outputs": [
    {
     "data": {
      "text/html": [
       "<table>\n",
       "<caption>A data.frame: 6 × 4</caption>\n",
       "<thead>\n",
       "\t<tr><th></th><th scope="col">year</th><th scope="col">era</th><th scope="col">AverageTemperature</th><th scope="col">AverageCarbonEmission</th></tr>\n",
       "\t<tr><th></th><th scope="col">&lt;dbl&gt;</th><th scope="col">&lt;chr&gt;</th><th scope="col">&lt;dbl&gt;</th><th scope="col">&lt;dbl&gt;</th></tr>\n",
       "</thead>\n",
       "<tbody>\n",
       "\t<tr><th scope="row">1</th><td>1958</td><td>gas &amp; oil</td><td>18.94217</td><td>315.3300</td></tr>\n",
       "\t<tr><th scope="row">2</th><td>1959</td><td>gas &amp; oil</td><td>18.82521</td><td>315.9817</td></tr>\n",
       "\t<tr><th scope="row">3</th><td>1960</td><td>gas &amp; oil</td><td>18.88701</td><td>316.9083</td></tr>\n",
       "\t<tr><th scope="row">4</th><td>1961</td><td>gas &amp; oil</td><td>18.92357</td><td>317.6450</td></tr>\n",
       "\t<tr><th scope="row">5</th><td>1962</td><td>gas &amp; oil</td><td>18.69385</td><td>318.4533</td></tr>\n",
       "\t<tr><th scope="row">6</th><td>1963</td><td>gas &amp; oil</td><td>18.67525</td><td>318.9925</td></tr>\n",
       "</tbody>\n",
       "</table>\n"
      ],
      "text/latex": [
       "A data.frame: 6 × 4\n",
       "\\begin{tabular}{r|llll}\n",
       "  & year & era & AverageTemperature & AverageCarbonEmission\\\\\n",
       "  & <dbl> & <chr> & <dbl> & <dbl>\\\\\n",
       "\\hline\n",
       "\t1 & 1958 & gas \\& oil & 18.94217 & 315.3300\\\\\n",
       "\t2 & 1959 & gas \\& oil & 18.82521 & 315.9817\\\\\n",
       "\t3 & 1960 & gas \\& oil & 18.88701 & 316.9083\\\\\n",
       "\t4 & 1961 & gas \\& oil & 18.92357 & 317.6450\\\\\n",
       "\t5 & 1962 & gas \\& oil & 18.69385 & 318.4533\\\\\n",
       "\t6 & 1963 & gas \\& oil & 18.67525 & 318.9925\\\\\n",
       "\\end{tabular}\n"
      ],
      "text/markdown": [
       "\n",
       "A data.frame: 6 × 4\n",
       "\n",
       "| <!--/--> | year &lt;dbl&gt; | era &lt;chr&gt; | AverageTemperature &lt;dbl&gt; | AverageCarbonEmission &lt;dbl&gt; |\n",
       "|---|---|---|---|---|\n",
       "| 1 | 1958 | gas &amp; oil | 18.94217 | 315.3300 |\n",
       "| 2 | 1959 | gas &amp; oil | 18.82521 | 315.9817 |\n",
       "| 3 | 1960 | gas &amp; oil | 18.88701 | 316.9083 |\n",
       "| 4 | 1961 | gas &amp; oil | 18.92357 | 317.6450 |\n",
       "| 5 | 1962 | gas &amp; oil | 18.69385 | 318.4533 |\n",
       "| 6 | 1963 | gas &amp; oil | 18.67525 | 318.9925 |\n",
       "\n"
      ],
      "text/plain": [
       "  year era       AverageTemperature AverageCarbonEmission\n",
       "1 1958 gas & oil 18.94217           315.3300             \n",
       "2 1959 gas & oil 18.82521           315.9817             \n",
       "3 1960 gas & oil 18.88701           316.9083             \n",
       "4 1961 gas & oil 18.92357           317.6450             \n",
       "5 1962 gas & oil 18.69385           318.4533             \n",
       "6 1963 gas & oil 18.67525           318.9925             "
      ]
     },
     "metadata": {},
     "output_type": "display_data"
    }
   ],
   "source": [
    "carbon <- group_by(carbon, year) %>%\n",
    "    summarise(AverageCarbonEmission = mean(CarbonDioxide))\n",
    "\n",
    "newdata <- group_by(mydata, year, era) %>%\n",
    "    summarise(AverageTemperature = mean(AverageTemperature))\n",
    "\n",
    "carbon <- merge(newdata, carbon[, c(\"year\", \"AverageCarbonEmission\")], by=\"year\")\n",
    "head(carbon)"
   ]
  },
  {
   "cell_type": "markdown",
   "metadata": {},
   "source": [
    "### You may want to review this code at home, but for now let's just consider that it merges two datasets\n",
    "\n",
    "A detailed explanation for later reference explained line-by-line:\n",
    "\n",
    "1. the `carbon` data will be updated with the result of the right-hand operation. The right-hand operation groups the dataset by year\n",
    "\n",
    "\n",
    "2. after grouping, we apply the `summarise` to create a column named `carbon` the value of the column is the `mean` of the `CarbonDioxide` emission\n",
    "\n",
    "\n",
    "3. we do a similar grouping operation creating a `newdata` data. \n",
    "\n",
    "\n",
    "4. this time, we are interested in the mean of the `AverageTemperature`\n",
    "\n",
    "\n",
    "5. we now have two variables, one with the `year` and `AverageCarbonEmission` and another with year and `AverageTemperature`. Let's `merge` these two tables in a final `carbon` table. Our merging criteria is the `year` and we will copy two columns from the initial carbon table: `c(\"year\", \"AverageCarbonEmission\")`\n",
    "\n",
    "<br>"
   ]
  },
  {
   "cell_type": "markdown",
   "metadata": {},
   "source": [
    "### Hypothesis testing\n",
    "\n",
    "From [Wikipedia](https://en.wikipedia.org/wiki/Statistical_significance):"
   ]
  },
  {
   "cell_type": "markdown",
   "metadata": {},
   "source": [
    "#### To determine whether a result is statistically significant, a researcher calculates a p-value, which is the probability of observing an effect of the same magnitude or more extreme given that the null hypothesis is true.\n",
    "\n",
    "#### The null hypothesis is rejected if the p-value is less than a predetermined level, α.\n",
    "\n",
    "#### α is called the significance level, and is the probability of rejecting the null hypothesis given that it is true (a type I error). \n",
    "\n",
    "#### α is usually set at or below 5%.\n",
    "\n",
    "<img src=\"figures/normal_curve.png\">"
   ]
  },
  {
   "cell_type": "markdown",
   "metadata": {},
   "source": [
    "## Our null hypotheses\n",
    "\n",
    "### There is no difference in the Average temperature in the `gas & oil` era and the `electronic` era"
   ]
  },
  {
   "cell_type": "code",
   "execution_count": 34,
   "metadata": {},
   "outputs": [
    {
     "data": {
      "text/html": [
       "<table>\n",
       "<caption>A data.frame: 6 × 6</caption>\n",
       "<thead>\n",
       "\t<tr><th></th><th scope="col">dt</th><th scope="col">AverageTemperature</th><th scope="col">AverageTemperatureUncertainty</th><th scope="col">Country</th><th scope="col">year</th><th scope="col">era</th></tr>\n",
       "\t<tr><th></th><th scope="col">&lt;fct&gt;</th><th scope="col">&lt;dbl&gt;</th><th scope="col">&lt;dbl&gt;</th><th scope="col">&lt;fct&gt;</th><th scope="col">&lt;dbl&gt;</th><th scope="col">&lt;chr&gt;</th></tr>\n",
       "</thead>\n",
       "<tbody>\n",
       "\t<tr><th scope="row">1</th><td>1743-11-01</td><td> 4.384</td><td>2.294</td><td>Ã…land</td><td>1743</td><td>gas &amp; oil</td></tr>\n",
       "\t<tr><th scope="row">2</th><td>1744-04-01</td><td> 1.530</td><td>4.680</td><td>Ã…land</td><td>1744</td><td>gas &amp; oil</td></tr>\n",
       "\t<tr><th scope="row">3</th><td>1744-05-01</td><td> 6.702</td><td>1.789</td><td>Ã…land</td><td>1744</td><td>gas &amp; oil</td></tr>\n",
       "\t<tr><th scope="row">4</th><td>1744-06-01</td><td>11.609</td><td>1.577</td><td>Ã…land</td><td>1744</td><td>gas &amp; oil</td></tr>\n",
       "\t<tr><th scope="row">5</th><td>1744-07-01</td><td>15.342</td><td>1.410</td><td>Ã…land</td><td>1744</td><td>gas &amp; oil</td></tr>\n",
       "\t<tr><th scope="row">6</th><td>1744-09-01</td><td>11.702</td><td>1.517</td><td>Ã…land</td><td>1744</td><td>gas &amp; oil</td></tr>\n",
       "</tbody>\n",
       "</table>\n"
      ],
      "text/latex": [
       "A data.frame: 6 × 6\n",
       "\\begin{tabular}{r|llllll}\n",
       "  & dt & AverageTemperature & AverageTemperatureUncertainty & Country & year & era\\\\\n",
       "  & <fct> & <dbl> & <dbl> & <fct> & <dbl> & <chr>\\\\\n",
       "\\hline\n",
       "\t1 & 1743-11-01 &  4.384 & 2.294 & Ã…land & 1743 & gas \\& oil\\\\\n",
       "\t2 & 1744-04-01 &  1.530 & 4.680 & Ã…land & 1744 & gas \\& oil\\\\\n",
       "\t3 & 1744-05-01 &  6.702 & 1.789 & Ã…land & 1744 & gas \\& oil\\\\\n",
       "\t4 & 1744-06-01 & 11.609 & 1.577 & Ã…land & 1744 & gas \\& oil\\\\\n",
       "\t5 & 1744-07-01 & 15.342 & 1.410 & Ã…land & 1744 & gas \\& oil\\\\\n",
       "\t6 & 1744-09-01 & 11.702 & 1.517 & Ã…land & 1744 & gas \\& oil\\\\\n",
       "\\end{tabular}\n"
      ],
      "text/markdown": [
       "\n",
       "A data.frame: 6 × 6\n",
       "\n",
       "| <!--/--> | dt &lt;fct&gt; | AverageTemperature &lt;dbl&gt; | AverageTemperatureUncertainty &lt;dbl&gt; | Country &lt;fct&gt; | year &lt;dbl&gt; | era &lt;chr&gt; |\n",
       "|---|---|---|---|---|---|---|\n",
       "| 1 | 1743-11-01 |  4.384 | 2.294 | Ã…land | 1743 | gas &amp; oil |\n",
       "| 2 | 1744-04-01 |  1.530 | 4.680 | Ã…land | 1744 | gas &amp; oil |\n",
       "| 3 | 1744-05-01 |  6.702 | 1.789 | Ã…land | 1744 | gas &amp; oil |\n",
       "| 4 | 1744-06-01 | 11.609 | 1.577 | Ã…land | 1744 | gas &amp; oil |\n",
       "| 5 | 1744-07-01 | 15.342 | 1.410 | Ã…land | 1744 | gas &amp; oil |\n",
       "| 6 | 1744-09-01 | 11.702 | 1.517 | Ã…land | 1744 | gas &amp; oil |\n",
       "\n"
      ],
      "text/plain": [
       "  dt         AverageTemperature AverageTemperatureUncertainty Country year\n",
       "1 1743-11-01  4.384             2.294                         Ã…land  1743\n",
       "2 1744-04-01  1.530             4.680                         Ã…land  1744\n",
       "3 1744-05-01  6.702             1.789                         Ã…land  1744\n",
       "4 1744-06-01 11.609             1.577                         Ã…land  1744\n",
       "5 1744-07-01 15.342             1.410                         Ã…land  1744\n",
       "6 1744-09-01 11.702             1.517                         Ã…land  1744\n",
       "  era      \n",
       "1 gas & oil\n",
       "2 gas & oil\n",
       "3 gas & oil\n",
       "4 gas & oil\n",
       "5 gas & oil\n",
       "6 gas & oil"
      ]
     },
     "metadata": {},
     "output_type": "display_data"
    }
   ],
   "source": [
    "head(mydata)"
   ]
  },
  {
   "cell_type": "markdown",
   "metadata": {},
   "source": [
    "#### Independent T-test compares means between two groups\n",
    "\n",
    "It is often used to see whether there is a group difference in continuous data **between two groups** \n",
    "\n",
    "*Model assumptions*\n",
    "\n",
    "    (1) Independence\n",
    "\n",
    "    (2) Normality\n",
    "\n",
    "    (3) Equal variance"
   ]
  },
  {
   "cell_type": "code",
   "execution_count": 35,
   "metadata": {},
   "outputs": [
    {
     "data": {
      "text/plain": [
       "\n",
       "\tTwo Sample t-test\n",
       "\n",
       "data:  AverageTemperature by era\n",
       "t = 3.7437, df = 54, p-value = 0.0004415\n",
       "alternative hypothesis: true difference in means is not equal to 0\n",
       "95 percent confidence interval:\n",
       " 0.1806106 0.5970976\n",
       "sample estimates:\n",
       "mean in group electronic  mean in group gas & oil \n",
       "                19.13249                 18.74364 \n"
      ]
     },
     "metadata": {},
     "output_type": "display_data"
    }
   ],
   "source": [
    "t.test(AverageTemperature ~ era, data=carbon, var.eq=TRUE)"
   ]
  },
  {
   "cell_type": "markdown",
   "metadata": {},
   "source": [
    "Interpreting the results:\n",
    "\n",
    "* `t` value guides our analysis. Read more at this [link](https://blog.minitab.com/blog/adventures-in-statistics-2/understanding-t-tests-t-values-and-t-distributions)\n",
    "* `df = 54` degrees of freedom \n",
    "* `p-value < 0.0004415` pretty low, so that means that we can reject the null hypothesis\n",
    "\n",
    "<br>\n",
    "\n",
    "* Which one seems higher?\n",
    "    * mean in group `gas & oil` = `18.74364`\n",
    "    * mean in group `eletronics` = `19.13249`\n"
   ]
  },
  {
   "cell_type": "markdown",
   "metadata": {},
   "source": [
    "### Is there any association between the `AverageTemperature` and the `AverageCarbonEmission`  ?"
   ]
  },
  {
   "cell_type": "markdown",
   "metadata": {},
   "source": [
    "#### Pearson’s correlation is used to examine associations between variables (represented by continuous data) by looking at the direction and strength of the associations"
   ]
  },
  {
   "cell_type": "code",
   "execution_count": 36,
   "metadata": {},
   "outputs": [
    {
     "data": {
      "text/plain": [
       "\n",
       "\tPearson's product-moment correlation\n",
       "\n",
       "data:  carbon$AverageTemperature and carbon$AverageCarbonEmission\n",
       "t = 14.919, df = 54, p-value < 2.2e-16\n",
       "alternative hypothesis: true correlation is not equal to 0\n",
       "95 percent confidence interval:\n",
       " 0.8299122 0.9386169\n",
       "sample estimates:\n",
       "      cor \n",
       "0.8970832 \n"
      ]
     },
     "metadata": {},
     "output_type": "display_data"
    }
   ],
   "source": [
    "cor.test(carbon$AverageTemperature, carbon$AverageCarbonEmission, method=\"pearson\")"
   ]
  },
  {
   "cell_type": "markdown",
   "metadata": {},
   "source": [
    "Interpreting the results:\n",
    "\n",
    "* `p-value < 2.2e-16` pretty low, so that means that there is statistically significant correlation between `temperature` and `carbon emission`\n",
    "\n",
    "<br>\n",
    "\n",
    "* How strong is the correlation  `cor` = `0.8970832` \n",
    "\n",
    "    Interpretation varies by research field so results should be interpreted with caution\n",
    "    \n",
    "    `cor` varies from `-1` to `1` positive values indicate that an increase in the `x` variable increases the `y` variable. In this case, a value closer to `1` means a strong positive correlation\n"
   ]
  },
  {
   "cell_type": "markdown",
   "metadata": {},
   "source": [
    "***\n",
    "\n",
    "### Did we do the correct analysis?\n",
    "\n",
    "### What if the data is not normally distributed?\n",
    "\n",
    "#### Let us test for normality using the Shapiro-Wilk test:\n",
    "\n",
    "**Null hypothesis**: The data is normally distributed. If p > 0.05, normality can be assumed."
   ]
  },
  {
   "cell_type": "code",
   "execution_count": 37,
   "metadata": {},
   "outputs": [
    {
     "data": {
      "text/plain": [
       "\n",
       "\tShapiro-Wilk normality test\n",
       "\n",
       "data:  carbon$AverageTemperature\n",
       "W = 0.94052, p-value = 0.008176\n"
      ]
     },
     "metadata": {},
     "output_type": "display_data"
    }
   ],
   "source": [
    "shapiro.test(carbon$AverageTemperature)"
   ]
  },
  {
   "cell_type": "markdown",
   "metadata": {},
   "source": [
    "* `p-value < 0.05` So we reject the null hypothesis and our data is skewed "
   ]
  },
  {
   "cell_type": "markdown",
   "metadata": {},
   "source": [
    "#### We can also check data visually "
   ]
  },
  {
   "cell_type": "code",
   "execution_count": 38,
   "metadata": {},
   "outputs": [
    {
     "data": {
      "image/png": "iVBORw0KGgoAAAANSUhEUgAAA0gAAANICAMAAADKOT/pAAAANlBMVEUAAAAzMzNNTU1oaGh8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",
      "text/plain": [
       "plot without title"
      ]
     },
     "metadata": {
      "image/png": {
       "height": 420,
       "width": 420
      },
      "text/plain": {
       "height": 420,
       "width": 420
      }
     },
     "output_type": "display_data"
    }
   ],
   "source": [
    "ggplot(carbon, aes(x=AverageTemperature)) + \n",
    "  geom_density()"
   ]
  },
  {
   "cell_type": "markdown",
   "metadata": {},
   "source": [
    "***\n",
    "\n",
    "### So what tests should we run?\n",
    "\n",
    "\n",
    "Parametric test | R | Non-parametric test | R\n",
    "--- | --- | --- | ---\n",
    "Independent t-test | `t.test(y~x)` |  Mann-Whitney test | `wilcox.test(y~x)`\n",
    "Paired t-test | `t.test(y1, y2, paired=TRUE)` | Wilcoxon signed rank test | `wilcox.test(y1,y2,paired=TRUE)`\n",
    "One-way ANOVA | `aov(y ~ x, data = my_data)` |  Kruskal-Wallis test | `kruskal.test(y~x)`\n",
    "Pearson's correlation | `cor.test(x, y, method=c(\"pearson\")` | Spearman's correlation | `cor.test(x, y, method=c(\"spearman\")`\n",
    "\n",
    "These are only some examples\n",
    "\n",
    "***\n",
    "\n",
    "# Exercise\n",
    "\n",
    "## If we are on track, try to:\n",
    "\n",
    "\n",
    "### 1. Run the proper non-parametric tests for our data/analysis\n",
    "\n",
    "\n",
    "\n",
    "\n",
    "<br><br><br><br>\n",
    "\n",
    "\n",
    "## Don't spoil the fun. The stick figure is watching you\n",
    "\n",
    "\n",
    "<br><br><br><br>\n",
    "\n",
    "\n",
    "<img src=\"figures/watch.png\" width=\"30%\">\n",
    "\n",
    "***\n",
    "\n",
    "### Answer:"
   ]
  },
  {
   "cell_type": "markdown",
   "metadata": {},
   "source": [
    "\n",
    "\n",
    "### Mann-Whitney test"
   ]
  },
  {
   "cell_type": "code",
   "execution_count": 39,
   "metadata": {},
   "outputs": [
    {
     "data": {
      "text/plain": [
       "\n",
       "\tWilcoxon rank sum test\n",
       "\n",
       "data:  AverageTemperature by era\n",
       "W = 437, p-value = 0.0002986\n",
       "alternative hypothesis: true location shift is not equal to 0\n"
      ]
     },
     "metadata": {},
     "output_type": "display_data"
    }
   ],
   "source": [
    "wilcox.test(AverageTemperature ~ era, data=carbon)"
   ]
  },
  {
   "cell_type": "markdown",
   "metadata": {},
   "source": [
    "***\n",
    "\n",
    "### Spearman Correlation"
   ]
  },
  {
   "cell_type": "code",
   "execution_count": 40,
   "metadata": {},
   "outputs": [
    {
     "data": {
      "text/plain": [
       "\n",
       "\tSpearman's rank correlation rho\n",
       "\n",
       "data:  carbon$AverageTemperature and carbon$AverageCarbonEmission\n",
       "S = 4452, p-value < 2.2e-16\n",
       "alternative hypothesis: true rho is not equal to 0\n",
       "sample estimates:\n",
       "      rho \n",
       "0.8478469 \n"
      ]
     },
     "metadata": {},
     "output_type": "display_data"
    }
   ],
   "source": [
    "cor.test(carbon$AverageTemperature, carbon$AverageCarbonEmission, method=\"spearman\")"
   ]
  },
  {
   "cell_type": "markdown",
   "metadata": {},
   "source": [
    "***\n",
    "\n",
    "### Conclusions from our analysis"
   ]
  },
  {
   "cell_type": "markdown",
   "metadata": {},
   "source": [
    "<img src=\"figures/this_is_fine.png\">"
   ]
  },
  {
   "cell_type": "markdown",
   "metadata": {},
   "source": [
    "***\n",
    "\n",
    "# Research Commons: An interdisciplinary research-driven learning environment\n",
    "\n",
    "\n",
    "### * Literature review\n",
    "### * Systematic Review Search  Methodology\n",
    "### * Citation Management\n",
    "### * Thesis Formatting \n",
    "\n",
    "\n",
    "### * Nvivo Software Support\n",
    "\n",
    "\n",
    "\n",
    "### * SPSS Software Support\n",
    "\n",
    "<img style=\"float: right;\" src=\"figures/research_commons_logo.png\">\n",
    "\n",
    "\n",
    "### * R Group\n",
    "\n",
    "\n",
    "\n",
    "### * Multi-Disciplinary Graduate Student Writing Group\n",
    "\n",
    "***"
   ]
  },
  {
   "cell_type": "markdown",
   "metadata": {},
   "source": [
    "<img style=\"position: relative;\" src=\"figures/background.png\">\n",
    "\n",
    "<img style=\"position: absolute; top: 50px; left: 200px; background: rgba(255,255,255, 0.5);\" src=\"figures/thanks.png\">"
   ]
  },
  {
   "cell_type": "markdown",
   "metadata": {
    "slideshow": {
     "slide_type": "-"
    }
   },
   "source": [
    "\n",
    "\n",
    "<center> <h1>Feedback</h1><h2>http://bit.ly/RCfeedbackwinter2018</h2> </center>\n"
   ]
  }
 ],
 "metadata": {
  "kernelspec": {
   "display_name": "R",
   "language": "R",
   "name": "ir"
  },
  "language_info": {
   "codemirror_mode": "r",
   "file_extension": ".r",
   "mimetype": "text/x-r-source",
   "name": "R",
   "pygments_lexer": "r",
   "version": "3.6.1"
  }
 },
 "nbformat": 4,
 "nbformat_minor": 2
}
